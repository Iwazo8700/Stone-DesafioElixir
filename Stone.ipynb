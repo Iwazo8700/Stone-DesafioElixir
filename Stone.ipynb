{
  "nbformat": 4,
  "nbformat_minor": 0,
  "metadata": {
    "colab": {
      "name": "Stone",
      "provenance": []
    },
    "kernelspec": {
      "name": "python3",
      "display_name": "Python 3"
    }
  },
  "cells": [
    {
      "cell_type": "markdown",
      "metadata": {
        "id": "fecO-QLDnziK"
      },
      "source": [
        "# **Desafio Elixir**"
      ]
    },
    {
      "cell_type": "markdown",
      "metadata": {
        "id": "PvSusDuGoLl_"
      },
      "source": [
        "#Aquisição dos dados"
      ]
    },
    {
      "cell_type": "markdown",
      "metadata": {
        "id": "gLAR2uCNofCB"
      },
      "source": [
        "##Imports"
      ]
    },
    {
      "cell_type": "code",
      "metadata": {
        "id": "UILZdsaSoF6w",
        "colab": {
          "base_uri": "https://localhost:8080/"
        },
        "outputId": "5d273adf-735e-41c4-d54a-9f4746b07d51"
      },
      "source": [
        "import pandas as pd\n",
        "import pandas.io.sql as sqlio\n",
        "import psycopg2"
      ],
      "execution_count": 1,
      "outputs": [
        {
          "output_type": "stream",
          "text": [
            "/usr/local/lib/python3.6/dist-packages/psycopg2/__init__.py:144: UserWarning: The psycopg2 wheel package will be renamed from release 2.8; in order to keep installing from binary please use \"pip install psycopg2-binary\" instead. For details see: <http://initd.org/psycopg/docs/install.html#binary-install-from-pypi>.\n",
            "  \"\"\")\n"
          ],
          "name": "stderr"
        }
      ]
    },
    {
      "cell_type": "markdown",
      "metadata": {
        "id": "hwgM-T7UohUf"
      },
      "source": [
        "##Request dos Banco de dados"
      ]
    },
    {
      "cell_type": "code",
      "metadata": {
        "id": "pbjae9ajmrc0"
      },
      "source": [
        "\n",
        "host = 'db-stone.cjepwwjnksng.us-east-1.rds.amazonaws.com'\n",
        "port = '5432'\n",
        "dbname = 'postgres'\n",
        "username = 'read_only_user'\n",
        "pwd = 'banking123'\n",
        "\n",
        "conn = psycopg2.connect(\"host='{}' port={} dbname='{}' user={} password={}\".format(host, port, dbname, username, pwd))\n",
        "customers = sqlio.read_sql_query(\"select * from customers;\", conn)\n",
        "cards = sqlio.read_sql_query(\"select * from cards;\", conn)\n",
        "transactions = sqlio.read_sql_query(\"select * from transactions;\", conn)\n",
        "frauds = sqlio.read_sql_query(\"select * from frauds;\", conn)\n",
        "\n",
        "conn = None"
      ],
      "execution_count": 2,
      "outputs": []
    },
    {
      "cell_type": "markdown",
      "metadata": {
        "id": "zcvbCHaNolqI"
      },
      "source": [
        "##Descrição rápida dos Dados"
      ]
    },
    {
      "cell_type": "code",
      "metadata": {
        "id": "lRGWCxAWneYb",
        "colab": {
          "base_uri": "https://localhost:8080/",
          "height": 667
        },
        "outputId": "89b7eb58-279e-4ad2-f925-03d7d83b6430"
      },
      "source": [
        "\n",
        "print('Descricao:\\n',customers.describe())\n",
        "print('Tamanho:\\n',customers.size)\n",
        "print('Customers:\\n',)\n",
        "customers"
      ],
      "execution_count": 3,
      "outputs": [
        {
          "output_type": "stream",
          "text": [
            "Descricao:\n",
            "                age\n",
            "count  5674.000000\n",
            "mean     35.059922\n",
            "std       8.962637\n",
            "min      20.000000\n",
            "25%      27.000000\n",
            "50%      35.000000\n",
            "75%      43.000000\n",
            "max      50.000000\n",
            "Tamanho:\n",
            " 22696\n",
            "Customers:\n",
            "\n"
          ],
          "name": "stdout"
        },
        {
          "output_type": "execute_result",
          "data": {
            "text/html": [
              "<div>\n",
              "<style scoped>\n",
              "    .dataframe tbody tr th:only-of-type {\n",
              "        vertical-align: middle;\n",
              "    }\n",
              "\n",
              "    .dataframe tbody tr th {\n",
              "        vertical-align: top;\n",
              "    }\n",
              "\n",
              "    .dataframe thead th {\n",
              "        text-align: right;\n",
              "    }\n",
              "</style>\n",
              "<table border=\"1\" class=\"dataframe\">\n",
              "  <thead>\n",
              "    <tr style=\"text-align: right;\">\n",
              "      <th></th>\n",
              "      <th>id</th>\n",
              "      <th>age</th>\n",
              "      <th>segment</th>\n",
              "      <th>vintage_group</th>\n",
              "    </tr>\n",
              "  </thead>\n",
              "  <tbody>\n",
              "    <tr>\n",
              "      <th>0</th>\n",
              "      <td>CC25034</td>\n",
              "      <td>35</td>\n",
              "      <td>Diamond</td>\n",
              "      <td>VG1</td>\n",
              "    </tr>\n",
              "    <tr>\n",
              "      <th>1</th>\n",
              "      <td>CC59625</td>\n",
              "      <td>22</td>\n",
              "      <td>Diamond</td>\n",
              "      <td>VG1</td>\n",
              "    </tr>\n",
              "    <tr>\n",
              "      <th>2</th>\n",
              "      <td>CC69314</td>\n",
              "      <td>33</td>\n",
              "      <td>Diamond</td>\n",
              "      <td>VG1</td>\n",
              "    </tr>\n",
              "    <tr>\n",
              "      <th>3</th>\n",
              "      <td>CC67036</td>\n",
              "      <td>46</td>\n",
              "      <td>Diamond</td>\n",
              "      <td>VG1</td>\n",
              "    </tr>\n",
              "    <tr>\n",
              "      <th>4</th>\n",
              "      <td>CC25597</td>\n",
              "      <td>44</td>\n",
              "      <td>Diamond</td>\n",
              "      <td>VG1</td>\n",
              "    </tr>\n",
              "    <tr>\n",
              "      <th>...</th>\n",
              "      <td>...</td>\n",
              "      <td>...</td>\n",
              "      <td>...</td>\n",
              "      <td>...</td>\n",
              "    </tr>\n",
              "    <tr>\n",
              "      <th>5669</th>\n",
              "      <td>CC53430</td>\n",
              "      <td>27</td>\n",
              "      <td>Platinum</td>\n",
              "      <td>VG2</td>\n",
              "    </tr>\n",
              "    <tr>\n",
              "      <th>5670</th>\n",
              "      <td>CC31823</td>\n",
              "      <td>33</td>\n",
              "      <td>Platinum</td>\n",
              "      <td>VG2</td>\n",
              "    </tr>\n",
              "    <tr>\n",
              "      <th>5671</th>\n",
              "      <td>CC15335</td>\n",
              "      <td>28</td>\n",
              "      <td>Platinum</td>\n",
              "      <td>VG2</td>\n",
              "    </tr>\n",
              "    <tr>\n",
              "      <th>5672</th>\n",
              "      <td>CC81556</td>\n",
              "      <td>26</td>\n",
              "      <td>Platinum</td>\n",
              "      <td>VG2</td>\n",
              "    </tr>\n",
              "    <tr>\n",
              "      <th>5673</th>\n",
              "      <td>CC38634</td>\n",
              "      <td>21</td>\n",
              "      <td>Platinum</td>\n",
              "      <td>VG2</td>\n",
              "    </tr>\n",
              "  </tbody>\n",
              "</table>\n",
              "<p>5674 rows × 4 columns</p>\n",
              "</div>"
            ],
            "text/plain": [
              "           id  age   segment vintage_group\n",
              "0     CC25034   35   Diamond           VG1\n",
              "1     CC59625   22   Diamond           VG1\n",
              "2     CC69314   33   Diamond           VG1\n",
              "3     CC67036   46   Diamond           VG1\n",
              "4     CC25597   44   Diamond           VG1\n",
              "...       ...  ...       ...           ...\n",
              "5669  CC53430   27  Platinum           VG2\n",
              "5670  CC31823   33  Platinum           VG2\n",
              "5671  CC15335   28  Platinum           VG2\n",
              "5672  CC81556   26  Platinum           VG2\n",
              "5673  CC38634   21  Platinum           VG2\n",
              "\n",
              "[5674 rows x 4 columns]"
            ]
          },
          "metadata": {
            "tags": []
          },
          "execution_count": 3
        }
      ]
    },
    {
      "cell_type": "code",
      "metadata": {
        "id": "waWCqV96oMh8",
        "colab": {
          "base_uri": "https://localhost:8080/",
          "height": 667
        },
        "outputId": "f9246b48-0228-49e5-c023-9b6ff66a5fb6"
      },
      "source": [
        "\n",
        "print('Descricao:\\n',cards.describe())\n",
        "print('Tamanho:\\n',cards.size)\n",
        "print('Cards:\\n')\n",
        "cards"
      ],
      "execution_count": 4,
      "outputs": [
        {
          "output_type": "stream",
          "text": [
            "Descricao:\n",
            "         credit_limit\n",
            "count     500.000000\n",
            "mean   252614.000000\n",
            "std    269881.769193\n",
            "min      2000.000000\n",
            "25%     35000.000000\n",
            "50%    139000.000000\n",
            "75%    412500.000000\n",
            "max    899000.000000\n",
            "Tamanho:\n",
            " 2000\n",
            "Cards:\n",
            "\n"
          ],
          "name": "stdout"
        },
        {
          "output_type": "execute_result",
          "data": {
            "text/html": [
              "<div>\n",
              "<style scoped>\n",
              "    .dataframe tbody tr th:only-of-type {\n",
              "        vertical-align: middle;\n",
              "    }\n",
              "\n",
              "    .dataframe tbody tr th {\n",
              "        vertical-align: top;\n",
              "    }\n",
              "\n",
              "    .dataframe thead th {\n",
              "        text-align: right;\n",
              "    }\n",
              "</style>\n",
              "<table border=\"1\" class=\"dataframe\">\n",
              "  <thead>\n",
              "    <tr style=\"text-align: right;\">\n",
              "      <th></th>\n",
              "      <th>card_number</th>\n",
              "      <th>card_family</th>\n",
              "      <th>credit_limit</th>\n",
              "      <th>customer_id</th>\n",
              "    </tr>\n",
              "  </thead>\n",
              "  <tbody>\n",
              "    <tr>\n",
              "      <th>0</th>\n",
              "      <td>8638-5407-3631-8196</td>\n",
              "      <td>Premium</td>\n",
              "      <td>530000</td>\n",
              "      <td>CC67088</td>\n",
              "    </tr>\n",
              "    <tr>\n",
              "      <th>1</th>\n",
              "      <td>7106-4239-7093-1515</td>\n",
              "      <td>Gold</td>\n",
              "      <td>18000</td>\n",
              "      <td>CC12076</td>\n",
              "    </tr>\n",
              "    <tr>\n",
              "      <th>2</th>\n",
              "      <td>6492-5655-8241-3530</td>\n",
              "      <td>Premium</td>\n",
              "      <td>596000</td>\n",
              "      <td>CC97173</td>\n",
              "    </tr>\n",
              "    <tr>\n",
              "      <th>3</th>\n",
              "      <td>2868-5606-5152-5706</td>\n",
              "      <td>Gold</td>\n",
              "      <td>27000</td>\n",
              "      <td>CC55858</td>\n",
              "    </tr>\n",
              "    <tr>\n",
              "      <th>4</th>\n",
              "      <td>1438-6906-2509-8219</td>\n",
              "      <td>Platinum</td>\n",
              "      <td>142000</td>\n",
              "      <td>CC90518</td>\n",
              "    </tr>\n",
              "    <tr>\n",
              "      <th>...</th>\n",
              "      <td>...</td>\n",
              "      <td>...</td>\n",
              "      <td>...</td>\n",
              "      <td>...</td>\n",
              "    </tr>\n",
              "    <tr>\n",
              "      <th>495</th>\n",
              "      <td>4708-4407-9601-6022</td>\n",
              "      <td>Premium</td>\n",
              "      <td>691000</td>\n",
              "      <td>CC64993</td>\n",
              "    </tr>\n",
              "    <tr>\n",
              "      <th>496</th>\n",
              "      <td>6042-2856-7280-2925</td>\n",
              "      <td>Gold</td>\n",
              "      <td>33000</td>\n",
              "      <td>CC26787</td>\n",
              "    </tr>\n",
              "    <tr>\n",
              "      <th>497</th>\n",
              "      <td>8706-3809-5167-3899</td>\n",
              "      <td>Premium</td>\n",
              "      <td>144000</td>\n",
              "      <td>CC32532</td>\n",
              "    </tr>\n",
              "    <tr>\n",
              "      <th>498</th>\n",
              "      <td>9540-8558-5897-5046</td>\n",
              "      <td>Premium</td>\n",
              "      <td>830000</td>\n",
              "      <td>CC90246</td>\n",
              "    </tr>\n",
              "    <tr>\n",
              "      <th>499</th>\n",
              "      <td>5587-7265-8118-7718</td>\n",
              "      <td>Gold</td>\n",
              "      <td>24000</td>\n",
              "      <td>CC37803</td>\n",
              "    </tr>\n",
              "  </tbody>\n",
              "</table>\n",
              "<p>500 rows × 4 columns</p>\n",
              "</div>"
            ],
            "text/plain": [
              "             card_number card_family  credit_limit customer_id\n",
              "0    8638-5407-3631-8196     Premium        530000     CC67088\n",
              "1    7106-4239-7093-1515        Gold         18000     CC12076\n",
              "2    6492-5655-8241-3530     Premium        596000     CC97173\n",
              "3    2868-5606-5152-5706        Gold         27000     CC55858\n",
              "4    1438-6906-2509-8219    Platinum        142000     CC90518\n",
              "..                   ...         ...           ...         ...\n",
              "495  4708-4407-9601-6022     Premium        691000     CC64993\n",
              "496  6042-2856-7280-2925        Gold         33000     CC26787\n",
              "497  8706-3809-5167-3899     Premium        144000     CC32532\n",
              "498  9540-8558-5897-5046     Premium        830000     CC90246\n",
              "499  5587-7265-8118-7718        Gold         24000     CC37803\n",
              "\n",
              "[500 rows x 4 columns]"
            ]
          },
          "metadata": {
            "tags": []
          },
          "execution_count": 4
        }
      ]
    },
    {
      "cell_type": "code",
      "metadata": {
        "id": "FzToSlggoPQu",
        "colab": {
          "base_uri": "https://localhost:8080/",
          "height": 667
        },
        "outputId": "e0bead99-a4e8-46de-ed8e-f0bd547f4bbc"
      },
      "source": [
        "\n",
        "print('Descricao:\\n',transactions.describe())\n",
        "print('Tamanho:\\n',transactions.size)\n",
        "print('Transactions:\\n')\n",
        "transactions"
      ],
      "execution_count": 5,
      "outputs": [
        {
          "output_type": "stream",
          "text": [
            "Descricao:\n",
            "               value\n",
            "count  10000.000000\n",
            "mean   24758.741300\n",
            "std    14371.088758\n",
            "min      103.000000\n",
            "25%    12317.500000\n",
            "50%    24720.500000\n",
            "75%    37036.250000\n",
            "max    49995.000000\n",
            "Tamanho:\n",
            " 50000\n",
            "Transactions:\n",
            "\n"
          ],
          "name": "stdout"
        },
        {
          "output_type": "execute_result",
          "data": {
            "text/html": [
              "<div>\n",
              "<style scoped>\n",
              "    .dataframe tbody tr th:only-of-type {\n",
              "        vertical-align: middle;\n",
              "    }\n",
              "\n",
              "    .dataframe tbody tr th {\n",
              "        vertical-align: top;\n",
              "    }\n",
              "\n",
              "    .dataframe thead th {\n",
              "        text-align: right;\n",
              "    }\n",
              "</style>\n",
              "<table border=\"1\" class=\"dataframe\">\n",
              "  <thead>\n",
              "    <tr style=\"text-align: right;\">\n",
              "      <th></th>\n",
              "      <th>id</th>\n",
              "      <th>card_number</th>\n",
              "      <th>transaction_date</th>\n",
              "      <th>value</th>\n",
              "      <th>segment</th>\n",
              "    </tr>\n",
              "  </thead>\n",
              "  <tbody>\n",
              "    <tr>\n",
              "      <th>0</th>\n",
              "      <td>CTID28830551</td>\n",
              "      <td>1629-9566-3285-2123</td>\n",
              "      <td>2016-04-24</td>\n",
              "      <td>23649</td>\n",
              "      <td>SEG25</td>\n",
              "    </tr>\n",
              "    <tr>\n",
              "      <th>1</th>\n",
              "      <td>CTID45504917</td>\n",
              "      <td>3697-6001-4909-5350</td>\n",
              "      <td>2016-02-11</td>\n",
              "      <td>26726</td>\n",
              "      <td>SEG16</td>\n",
              "    </tr>\n",
              "    <tr>\n",
              "      <th>2</th>\n",
              "      <td>CTID47312290</td>\n",
              "      <td>5864-4475-3659-1440</td>\n",
              "      <td>2016-11-01</td>\n",
              "      <td>22012</td>\n",
              "      <td>SEG14</td>\n",
              "    </tr>\n",
              "    <tr>\n",
              "      <th>3</th>\n",
              "      <td>CTID25637718</td>\n",
              "      <td>5991-4421-8476-3804</td>\n",
              "      <td>2016-01-28</td>\n",
              "      <td>37637</td>\n",
              "      <td>SEG17</td>\n",
              "    </tr>\n",
              "    <tr>\n",
              "      <th>4</th>\n",
              "      <td>CTID66743960</td>\n",
              "      <td>1893-8853-9900-8478</td>\n",
              "      <td>2016-03-17</td>\n",
              "      <td>5113</td>\n",
              "      <td>SEG14</td>\n",
              "    </tr>\n",
              "    <tr>\n",
              "      <th>...</th>\n",
              "      <td>...</td>\n",
              "      <td>...</td>\n",
              "      <td>...</td>\n",
              "      <td>...</td>\n",
              "      <td>...</td>\n",
              "    </tr>\n",
              "    <tr>\n",
              "      <th>9995</th>\n",
              "      <td>CTID25037573</td>\n",
              "      <td>9157-2802-8374-1145</td>\n",
              "      <td>2016-06-10</td>\n",
              "      <td>44280</td>\n",
              "      <td>SEG18</td>\n",
              "    </tr>\n",
              "    <tr>\n",
              "      <th>9996</th>\n",
              "      <td>CTID43832298</td>\n",
              "      <td>7416-4529-6690-5703</td>\n",
              "      <td>2016-05-23</td>\n",
              "      <td>27163</td>\n",
              "      <td>SEG12</td>\n",
              "    </tr>\n",
              "    <tr>\n",
              "      <th>9997</th>\n",
              "      <td>CTID56532072</td>\n",
              "      <td>6699-2639-4522-6219</td>\n",
              "      <td>2016-08-06</td>\n",
              "      <td>36424</td>\n",
              "      <td>SEG13</td>\n",
              "    </tr>\n",
              "    <tr>\n",
              "      <th>9998</th>\n",
              "      <td>CTID88101446</td>\n",
              "      <td>8341-5263-4582-7396</td>\n",
              "      <td>2016-10-10</td>\n",
              "      <td>8464</td>\n",
              "      <td>SEG14</td>\n",
              "    </tr>\n",
              "    <tr>\n",
              "      <th>9999</th>\n",
              "      <td>CTID64730271</td>\n",
              "      <td>1947-8602-1695-7503</td>\n",
              "      <td>2016-06-18</td>\n",
              "      <td>7606</td>\n",
              "      <td>SEG15</td>\n",
              "    </tr>\n",
              "  </tbody>\n",
              "</table>\n",
              "<p>10000 rows × 5 columns</p>\n",
              "</div>"
            ],
            "text/plain": [
              "                id          card_number transaction_date  value segment\n",
              "0     CTID28830551  1629-9566-3285-2123       2016-04-24  23649   SEG25\n",
              "1     CTID45504917  3697-6001-4909-5350       2016-02-11  26726   SEG16\n",
              "2     CTID47312290  5864-4475-3659-1440       2016-11-01  22012   SEG14\n",
              "3     CTID25637718  5991-4421-8476-3804       2016-01-28  37637   SEG17\n",
              "4     CTID66743960  1893-8853-9900-8478       2016-03-17   5113   SEG14\n",
              "...            ...                  ...              ...    ...     ...\n",
              "9995  CTID25037573  9157-2802-8374-1145       2016-06-10  44280   SEG18\n",
              "9996  CTID43832298  7416-4529-6690-5703       2016-05-23  27163   SEG12\n",
              "9997  CTID56532072  6699-2639-4522-6219       2016-08-06  36424   SEG13\n",
              "9998  CTID88101446  8341-5263-4582-7396       2016-10-10   8464   SEG14\n",
              "9999  CTID64730271  1947-8602-1695-7503       2016-06-18   7606   SEG15\n",
              "\n",
              "[10000 rows x 5 columns]"
            ]
          },
          "metadata": {
            "tags": []
          },
          "execution_count": 5
        }
      ]
    },
    {
      "cell_type": "code",
      "metadata": {
        "id": "kgOns3FBoaeJ",
        "colab": {
          "base_uri": "https://localhost:8080/",
          "height": 597
        },
        "outputId": "d39ab8c7-8667-49bf-8dec-3b507c7f1916"
      },
      "source": [
        "print('Descricao:\\n',frauds.describe())\n",
        "print('Tamanho:\\n',frauds.size)\n",
        "print('Frauds:\\n')\n",
        "frauds"
      ],
      "execution_count": 6,
      "outputs": [
        {
          "output_type": "stream",
          "text": [
            "Descricao:\n",
            "        transaction_id fraud_flag\n",
            "count             109        109\n",
            "unique            109          1\n",
            "top      CTID66191168       True\n",
            "freq                1        109\n",
            "Tamanho:\n",
            " 218\n",
            "Frauds:\n",
            "\n"
          ],
          "name": "stdout"
        },
        {
          "output_type": "execute_result",
          "data": {
            "text/html": [
              "<div>\n",
              "<style scoped>\n",
              "    .dataframe tbody tr th:only-of-type {\n",
              "        vertical-align: middle;\n",
              "    }\n",
              "\n",
              "    .dataframe tbody tr th {\n",
              "        vertical-align: top;\n",
              "    }\n",
              "\n",
              "    .dataframe thead th {\n",
              "        text-align: right;\n",
              "    }\n",
              "</style>\n",
              "<table border=\"1\" class=\"dataframe\">\n",
              "  <thead>\n",
              "    <tr style=\"text-align: right;\">\n",
              "      <th></th>\n",
              "      <th>transaction_id</th>\n",
              "      <th>fraud_flag</th>\n",
              "    </tr>\n",
              "  </thead>\n",
              "  <tbody>\n",
              "    <tr>\n",
              "      <th>0</th>\n",
              "      <td>CTID50558449</td>\n",
              "      <td>True</td>\n",
              "    </tr>\n",
              "    <tr>\n",
              "      <th>1</th>\n",
              "      <td>CTID55936882</td>\n",
              "      <td>True</td>\n",
              "    </tr>\n",
              "    <tr>\n",
              "      <th>2</th>\n",
              "      <td>CTID63762180</td>\n",
              "      <td>True</td>\n",
              "    </tr>\n",
              "    <tr>\n",
              "      <th>3</th>\n",
              "      <td>CTID76723439</td>\n",
              "      <td>True</td>\n",
              "    </tr>\n",
              "    <tr>\n",
              "      <th>4</th>\n",
              "      <td>CTID21246201</td>\n",
              "      <td>True</td>\n",
              "    </tr>\n",
              "    <tr>\n",
              "      <th>...</th>\n",
              "      <td>...</td>\n",
              "      <td>...</td>\n",
              "    </tr>\n",
              "    <tr>\n",
              "      <th>104</th>\n",
              "      <td>CTID57993591</td>\n",
              "      <td>True</td>\n",
              "    </tr>\n",
              "    <tr>\n",
              "      <th>105</th>\n",
              "      <td>CTID91108283</td>\n",
              "      <td>True</td>\n",
              "    </tr>\n",
              "    <tr>\n",
              "      <th>106</th>\n",
              "      <td>CTID30494187</td>\n",
              "      <td>True</td>\n",
              "    </tr>\n",
              "    <tr>\n",
              "      <th>107</th>\n",
              "      <td>CTID51301522</td>\n",
              "      <td>True</td>\n",
              "    </tr>\n",
              "    <tr>\n",
              "      <th>108</th>\n",
              "      <td>CTID49517337</td>\n",
              "      <td>True</td>\n",
              "    </tr>\n",
              "  </tbody>\n",
              "</table>\n",
              "<p>109 rows × 2 columns</p>\n",
              "</div>"
            ],
            "text/plain": [
              "    transaction_id  fraud_flag\n",
              "0     CTID50558449        True\n",
              "1     CTID55936882        True\n",
              "2     CTID63762180        True\n",
              "3     CTID76723439        True\n",
              "4     CTID21246201        True\n",
              "..             ...         ...\n",
              "104   CTID57993591        True\n",
              "105   CTID91108283        True\n",
              "106   CTID30494187        True\n",
              "107   CTID51301522        True\n",
              "108   CTID49517337        True\n",
              "\n",
              "[109 rows x 2 columns]"
            ]
          },
          "metadata": {
            "tags": []
          },
          "execution_count": 6
        }
      ]
    },
    {
      "cell_type": "markdown",
      "metadata": {
        "id": "5nC-71jvHtF6"
      },
      "source": [
        "#1. Extract and analyze the data in the database in order to answer the following questions. Provide a description and/or comments for each solution."
      ]
    },
    {
      "cell_type": "markdown",
      "metadata": {
        "id": "Cnz4tIovHy9P"
      },
      "source": [
        "##What is the average ```age``` of the customers in the database?"
      ]
    },
    {
      "cell_type": "markdown",
      "metadata": {
        "id": "KrWLrgz0H6Nr"
      },
      "source": [
        "Podemos pegar a média da idade dos consumidores direto da descrição do DataFrame ```customers```\n",
        "\n",
        "\n"
      ]
    },
    {
      "cell_type": "code",
      "metadata": {
        "id": "uSCBc0SmH4r-",
        "colab": {
          "base_uri": "https://localhost:8080/",
          "height": 300
        },
        "outputId": "e0eb4dae-85fb-4122-a31d-3628fcf48de0"
      },
      "source": [
        "# Descricao dos DataFrame dos consumidores\n",
        "customers.describe()"
      ],
      "execution_count": 7,
      "outputs": [
        {
          "output_type": "execute_result",
          "data": {
            "text/html": [
              "<div>\n",
              "<style scoped>\n",
              "    .dataframe tbody tr th:only-of-type {\n",
              "        vertical-align: middle;\n",
              "    }\n",
              "\n",
              "    .dataframe tbody tr th {\n",
              "        vertical-align: top;\n",
              "    }\n",
              "\n",
              "    .dataframe thead th {\n",
              "        text-align: right;\n",
              "    }\n",
              "</style>\n",
              "<table border=\"1\" class=\"dataframe\">\n",
              "  <thead>\n",
              "    <tr style=\"text-align: right;\">\n",
              "      <th></th>\n",
              "      <th>age</th>\n",
              "    </tr>\n",
              "  </thead>\n",
              "  <tbody>\n",
              "    <tr>\n",
              "      <th>count</th>\n",
              "      <td>5674.000000</td>\n",
              "    </tr>\n",
              "    <tr>\n",
              "      <th>mean</th>\n",
              "      <td>35.059922</td>\n",
              "    </tr>\n",
              "    <tr>\n",
              "      <th>std</th>\n",
              "      <td>8.962637</td>\n",
              "    </tr>\n",
              "    <tr>\n",
              "      <th>min</th>\n",
              "      <td>20.000000</td>\n",
              "    </tr>\n",
              "    <tr>\n",
              "      <th>25%</th>\n",
              "      <td>27.000000</td>\n",
              "    </tr>\n",
              "    <tr>\n",
              "      <th>50%</th>\n",
              "      <td>35.000000</td>\n",
              "    </tr>\n",
              "    <tr>\n",
              "      <th>75%</th>\n",
              "      <td>43.000000</td>\n",
              "    </tr>\n",
              "    <tr>\n",
              "      <th>max</th>\n",
              "      <td>50.000000</td>\n",
              "    </tr>\n",
              "  </tbody>\n",
              "</table>\n",
              "</div>"
            ],
            "text/plain": [
              "               age\n",
              "count  5674.000000\n",
              "mean     35.059922\n",
              "std       8.962637\n",
              "min      20.000000\n",
              "25%      27.000000\n",
              "50%      35.000000\n",
              "75%      43.000000\n",
              "max      50.000000"
            ]
          },
          "metadata": {
            "tags": []
          },
          "execution_count": 7
        }
      ]
    },
    {
      "cell_type": "markdown",
      "metadata": {
        "id": "ob5g8jyXIWkV"
      },
      "source": [
        "Então a idade média dos consumidores é **35.05992**"
      ]
    },
    {
      "cell_type": "markdown",
      "metadata": {
        "id": "Hyj3bZGTIex3"
      },
      "source": [
        "##How is the ```card_family``` ranked based on the ```credit_limit``` given to each card?"
      ]
    },
    {
      "cell_type": "markdown",
      "metadata": {
        "id": "WrOb66cDIoqO"
      },
      "source": [
        "As duas informações estão no DataFrame ```cards```, dela podemos fazer uma ordenação do maior para o menor"
      ]
    },
    {
      "cell_type": "code",
      "metadata": {
        "id": "lnzkyqdpJcat",
        "colab": {
          "base_uri": "https://localhost:8080/",
          "height": 424
        },
        "outputId": "de905445-a149-4bc6-ffb1-a619d24c2bc4"
      },
      "source": [
        "# sorted dos limites de creditos\n",
        "cards_sorted = cards.sort_values(by='credit_limit', ascending=False)\n",
        "cards_sorted"
      ],
      "execution_count": 8,
      "outputs": [
        {
          "output_type": "execute_result",
          "data": {
            "text/html": [
              "<div>\n",
              "<style scoped>\n",
              "    .dataframe tbody tr th:only-of-type {\n",
              "        vertical-align: middle;\n",
              "    }\n",
              "\n",
              "    .dataframe tbody tr th {\n",
              "        vertical-align: top;\n",
              "    }\n",
              "\n",
              "    .dataframe thead th {\n",
              "        text-align: right;\n",
              "    }\n",
              "</style>\n",
              "<table border=\"1\" class=\"dataframe\">\n",
              "  <thead>\n",
              "    <tr style=\"text-align: right;\">\n",
              "      <th></th>\n",
              "      <th>card_number</th>\n",
              "      <th>card_family</th>\n",
              "      <th>credit_limit</th>\n",
              "      <th>customer_id</th>\n",
              "    </tr>\n",
              "  </thead>\n",
              "  <tbody>\n",
              "    <tr>\n",
              "      <th>30</th>\n",
              "      <td>7179-9253-8424-9313</td>\n",
              "      <td>Premium</td>\n",
              "      <td>899000</td>\n",
              "      <td>CC32209</td>\n",
              "    </tr>\n",
              "    <tr>\n",
              "      <th>411</th>\n",
              "      <td>2264-2870-6785-2725</td>\n",
              "      <td>Premium</td>\n",
              "      <td>899000</td>\n",
              "      <td>CC34812</td>\n",
              "    </tr>\n",
              "    <tr>\n",
              "      <th>429</th>\n",
              "      <td>5674-3252-5805-3288</td>\n",
              "      <td>Premium</td>\n",
              "      <td>898000</td>\n",
              "      <td>CC78942</td>\n",
              "    </tr>\n",
              "    <tr>\n",
              "      <th>146</th>\n",
              "      <td>2944-6929-3608-9991</td>\n",
              "      <td>Premium</td>\n",
              "      <td>892000</td>\n",
              "      <td>CC37044</td>\n",
              "    </tr>\n",
              "    <tr>\n",
              "      <th>452</th>\n",
              "      <td>7966-2894-6066-2530</td>\n",
              "      <td>Premium</td>\n",
              "      <td>889000</td>\n",
              "      <td>CC51058</td>\n",
              "    </tr>\n",
              "    <tr>\n",
              "      <th>...</th>\n",
              "      <td>...</td>\n",
              "      <td>...</td>\n",
              "      <td>...</td>\n",
              "      <td>...</td>\n",
              "    </tr>\n",
              "    <tr>\n",
              "      <th>304</th>\n",
              "      <td>4971-8219-1133-6753</td>\n",
              "      <td>Gold</td>\n",
              "      <td>4000</td>\n",
              "      <td>CC23687</td>\n",
              "    </tr>\n",
              "    <tr>\n",
              "      <th>337</th>\n",
              "      <td>6271-9924-3653-8913</td>\n",
              "      <td>Gold</td>\n",
              "      <td>3000</td>\n",
              "      <td>CC62567</td>\n",
              "    </tr>\n",
              "    <tr>\n",
              "      <th>401</th>\n",
              "      <td>3969-9181-6385-4422</td>\n",
              "      <td>Gold</td>\n",
              "      <td>2000</td>\n",
              "      <td>CC71597</td>\n",
              "    </tr>\n",
              "    <tr>\n",
              "      <th>274</th>\n",
              "      <td>9207-1270-6690-4905</td>\n",
              "      <td>Gold</td>\n",
              "      <td>2000</td>\n",
              "      <td>CC65624</td>\n",
              "    </tr>\n",
              "    <tr>\n",
              "      <th>215</th>\n",
              "      <td>5864-4475-3659-1440</td>\n",
              "      <td>Gold</td>\n",
              "      <td>2000</td>\n",
              "      <td>CC99402</td>\n",
              "    </tr>\n",
              "  </tbody>\n",
              "</table>\n",
              "<p>500 rows × 4 columns</p>\n",
              "</div>"
            ],
            "text/plain": [
              "             card_number card_family  credit_limit customer_id\n",
              "30   7179-9253-8424-9313     Premium        899000     CC32209\n",
              "411  2264-2870-6785-2725     Premium        899000     CC34812\n",
              "429  5674-3252-5805-3288     Premium        898000     CC78942\n",
              "146  2944-6929-3608-9991     Premium        892000     CC37044\n",
              "452  7966-2894-6066-2530     Premium        889000     CC51058\n",
              "..                   ...         ...           ...         ...\n",
              "304  4971-8219-1133-6753        Gold          4000     CC23687\n",
              "337  6271-9924-3653-8913        Gold          3000     CC62567\n",
              "401  3969-9181-6385-4422        Gold          2000     CC71597\n",
              "274  9207-1270-6690-4905        Gold          2000     CC65624\n",
              "215  5864-4475-3659-1440        Gold          2000     CC99402\n",
              "\n",
              "[500 rows x 4 columns]"
            ]
          },
          "metadata": {
            "tags": []
          },
          "execution_count": 8
        }
      ]
    },
    {
      "cell_type": "code",
      "metadata": {
        "id": "2q9PQxtZJr5x",
        "colab": {
          "base_uri": "https://localhost:8080/"
        },
        "outputId": "f203971c-0a8b-4125-f704-9171192f6d12"
      },
      "source": [
        "# Pegar o intervalo de creditos para cada tipo de card_family\n",
        "for card_type in cards_sorted['card_family'].unique():\n",
        "  print('Intervalo para {} eh de {} ate {}'.format(card_type, cards_sorted[cards_sorted['card_family'] == card_type].min()['credit_limit'], cards_sorted[cards_sorted['card_family'] == card_type].max()['credit_limit']))"
      ],
      "execution_count": 9,
      "outputs": [
        {
          "output_type": "stream",
          "text": [
            "Intervalo para Premium eh de 108000 ate 899000\n",
            "Intervalo para Platinum eh de 51000 ate 200000\n",
            "Intervalo para Gold eh de 2000 ate 50000\n"
          ],
          "name": "stdout"
        }
      ]
    },
    {
      "cell_type": "markdown",
      "metadata": {
        "id": "cK9fJB6HRJiG"
      },
      "source": [
        "**Com isso percebemos que o ```card_family``` com maior limite de crédito é o Premium seguido do Platinum e do Gold. É importante perceber que o Premium e o Platinum possuem uma intersecção do limite de créditos, isso pode ser conferido nas seguinte células**\n",
        "\n",
        "---\n",
        "\n"
      ]
    },
    {
      "cell_type": "code",
      "metadata": {
        "id": "-Js0aM3vPd59",
        "colab": {
          "base_uri": "https://localhost:8080/",
          "height": 206
        },
        "outputId": "bb4a27d8-8cbe-4bda-9df5-c40faa3b4c1a"
      },
      "source": [
        "# Menores valores de credito do Premium\n",
        "cards_sorted[cards_sorted['card_family'] == 'Premium'].tail()"
      ],
      "execution_count": 10,
      "outputs": [
        {
          "output_type": "execute_result",
          "data": {
            "text/html": [
              "<div>\n",
              "<style scoped>\n",
              "    .dataframe tbody tr th:only-of-type {\n",
              "        vertical-align: middle;\n",
              "    }\n",
              "\n",
              "    .dataframe tbody tr th {\n",
              "        vertical-align: top;\n",
              "    }\n",
              "\n",
              "    .dataframe thead th {\n",
              "        text-align: right;\n",
              "    }\n",
              "</style>\n",
              "<table border=\"1\" class=\"dataframe\">\n",
              "  <thead>\n",
              "    <tr style=\"text-align: right;\">\n",
              "      <th></th>\n",
              "      <th>card_number</th>\n",
              "      <th>card_family</th>\n",
              "      <th>credit_limit</th>\n",
              "      <th>customer_id</th>\n",
              "    </tr>\n",
              "  </thead>\n",
              "  <tbody>\n",
              "    <tr>\n",
              "      <th>400</th>\n",
              "      <td>1825-7669-6621-9045</td>\n",
              "      <td>Premium</td>\n",
              "      <td>126000</td>\n",
              "      <td>CC26307</td>\n",
              "    </tr>\n",
              "    <tr>\n",
              "      <th>45</th>\n",
              "      <td>8725-3610-8060-2617</td>\n",
              "      <td>Premium</td>\n",
              "      <td>123000</td>\n",
              "      <td>CC34943</td>\n",
              "    </tr>\n",
              "    <tr>\n",
              "      <th>315</th>\n",
              "      <td>4703-4800-3443-6825</td>\n",
              "      <td>Premium</td>\n",
              "      <td>121000</td>\n",
              "      <td>CC11486</td>\n",
              "    </tr>\n",
              "    <tr>\n",
              "      <th>432</th>\n",
              "      <td>8836-7078-5752-6312</td>\n",
              "      <td>Premium</td>\n",
              "      <td>118000</td>\n",
              "      <td>CC40274</td>\n",
              "    </tr>\n",
              "    <tr>\n",
              "      <th>264</th>\n",
              "      <td>4818-7275-3513-3939</td>\n",
              "      <td>Premium</td>\n",
              "      <td>108000</td>\n",
              "      <td>CC11231</td>\n",
              "    </tr>\n",
              "  </tbody>\n",
              "</table>\n",
              "</div>"
            ],
            "text/plain": [
              "             card_number card_family  credit_limit customer_id\n",
              "400  1825-7669-6621-9045     Premium        126000     CC26307\n",
              "45   8725-3610-8060-2617     Premium        123000     CC34943\n",
              "315  4703-4800-3443-6825     Premium        121000     CC11486\n",
              "432  8836-7078-5752-6312     Premium        118000     CC40274\n",
              "264  4818-7275-3513-3939     Premium        108000     CC11231"
            ]
          },
          "metadata": {
            "tags": []
          },
          "execution_count": 10
        }
      ]
    },
    {
      "cell_type": "code",
      "metadata": {
        "id": "xCozw-_oPq7C",
        "colab": {
          "base_uri": "https://localhost:8080/",
          "height": 206
        },
        "outputId": "f64f533c-40e9-478b-cc85-85e6f2f15904"
      },
      "source": [
        "# Maiores valores de credito do Platinum\n",
        "cards_sorted[cards_sorted['card_family'] == 'Platinum'].head()"
      ],
      "execution_count": 11,
      "outputs": [
        {
          "output_type": "execute_result",
          "data": {
            "text/html": [
              "<div>\n",
              "<style scoped>\n",
              "    .dataframe tbody tr th:only-of-type {\n",
              "        vertical-align: middle;\n",
              "    }\n",
              "\n",
              "    .dataframe tbody tr th {\n",
              "        vertical-align: top;\n",
              "    }\n",
              "\n",
              "    .dataframe thead th {\n",
              "        text-align: right;\n",
              "    }\n",
              "</style>\n",
              "<table border=\"1\" class=\"dataframe\">\n",
              "  <thead>\n",
              "    <tr style=\"text-align: right;\">\n",
              "      <th></th>\n",
              "      <th>card_number</th>\n",
              "      <th>card_family</th>\n",
              "      <th>credit_limit</th>\n",
              "      <th>customer_id</th>\n",
              "    </tr>\n",
              "  </thead>\n",
              "  <tbody>\n",
              "    <tr>\n",
              "      <th>142</th>\n",
              "      <td>8408-7680-2338-9105</td>\n",
              "      <td>Platinum</td>\n",
              "      <td>200000</td>\n",
              "      <td>CC63145</td>\n",
              "    </tr>\n",
              "    <tr>\n",
              "      <th>260</th>\n",
              "      <td>7708-8807-7837-8812</td>\n",
              "      <td>Platinum</td>\n",
              "      <td>197000</td>\n",
              "      <td>CC56647</td>\n",
              "    </tr>\n",
              "    <tr>\n",
              "      <th>35</th>\n",
              "      <td>2640-5294-8252-8817</td>\n",
              "      <td>Platinum</td>\n",
              "      <td>197000</td>\n",
              "      <td>CC70762</td>\n",
              "    </tr>\n",
              "    <tr>\n",
              "      <th>225</th>\n",
              "      <td>8711-5325-4752-4743</td>\n",
              "      <td>Platinum</td>\n",
              "      <td>196000</td>\n",
              "      <td>CC78221</td>\n",
              "    </tr>\n",
              "    <tr>\n",
              "      <th>330</th>\n",
              "      <td>7633-7985-2079-2990</td>\n",
              "      <td>Platinum</td>\n",
              "      <td>196000</td>\n",
              "      <td>CC42937</td>\n",
              "    </tr>\n",
              "  </tbody>\n",
              "</table>\n",
              "</div>"
            ],
            "text/plain": [
              "             card_number card_family  credit_limit customer_id\n",
              "142  8408-7680-2338-9105    Platinum        200000     CC63145\n",
              "260  7708-8807-7837-8812    Platinum        197000     CC56647\n",
              "35   2640-5294-8252-8817    Platinum        197000     CC70762\n",
              "225  8711-5325-4752-4743    Platinum        196000     CC78221\n",
              "330  7633-7985-2079-2990    Platinum        196000     CC42937"
            ]
          },
          "metadata": {
            "tags": []
          },
          "execution_count": 11
        }
      ]
    },
    {
      "cell_type": "markdown",
      "metadata": {
        "id": "YN7uwFewSTXw"
      },
      "source": [
        "Isso pode ser explicado pelo fato de que o limite de créditos não é a única condição para determinar o ```card_family```, podendo haver outros fatores importantes para determinar esse fator "
      ]
    },
    {
      "cell_type": "markdown",
      "metadata": {
        "id": "soN7HCTlSzg6"
      },
      "source": [
        "##For the transactions flagged as fraud, what are the ids of the transactions with the highest value?"
      ]
    },
    {
      "cell_type": "markdown",
      "metadata": {
        "id": "B-kXe30qS5g1"
      },
      "source": [
        "As informações necessárias para essa questão estão nos DataFrames ```frauds``` e ```transactions```, basta então fazer um merge dos DataFrames em relação aos ids"
      ]
    },
    {
      "cell_type": "code",
      "metadata": {
        "id": "5u4lPHaXT1HO"
      },
      "source": [
        "# Renomeio a coluna id das transacoes para transaction_id, isso éé necessáário para fazer o merge entre os dois DataFrames\n",
        "# usando o id das transacoes para colocar de forma certa as linhas\n",
        "transactions.rename(columns = {'id':'transaction_id'}, inplace = True)\n",
        "transacoes_fraude = pd.merge(transactions, frauds, on='transaction_id')"
      ],
      "execution_count": 12,
      "outputs": []
    },
    {
      "cell_type": "code",
      "metadata": {
        "id": "xTFjNOC-Fzax",
        "colab": {
          "base_uri": "https://localhost:8080/",
          "height": 424
        },
        "outputId": "92833953-e47a-42c9-e16b-d5ca5fe09ba6"
      },
      "source": [
        "# Ordeno do maior para o menor valor e assim conseguir o id de transacoes fraudulentas\n",
        "transacoes_fraude[transacoes_fraude['fraud_flag']].sort_values(by='value', ascending=False)"
      ],
      "execution_count": 13,
      "outputs": [
        {
          "output_type": "execute_result",
          "data": {
            "text/html": [
              "<div>\n",
              "<style scoped>\n",
              "    .dataframe tbody tr th:only-of-type {\n",
              "        vertical-align: middle;\n",
              "    }\n",
              "\n",
              "    .dataframe tbody tr th {\n",
              "        vertical-align: top;\n",
              "    }\n",
              "\n",
              "    .dataframe thead th {\n",
              "        text-align: right;\n",
              "    }\n",
              "</style>\n",
              "<table border=\"1\" class=\"dataframe\">\n",
              "  <thead>\n",
              "    <tr style=\"text-align: right;\">\n",
              "      <th></th>\n",
              "      <th>transaction_id</th>\n",
              "      <th>card_number</th>\n",
              "      <th>transaction_date</th>\n",
              "      <th>value</th>\n",
              "      <th>segment</th>\n",
              "      <th>fraud_flag</th>\n",
              "    </tr>\n",
              "  </thead>\n",
              "  <tbody>\n",
              "    <tr>\n",
              "      <th>6</th>\n",
              "      <td>CTID20567160</td>\n",
              "      <td>3295-6390-4452-7199</td>\n",
              "      <td>2016-10-08</td>\n",
              "      <td>49155</td>\n",
              "      <td>SEG16</td>\n",
              "      <td>True</td>\n",
              "    </tr>\n",
              "    <tr>\n",
              "      <th>100</th>\n",
              "      <td>CTID15034243</td>\n",
              "      <td>4562-2665-7578-1931</td>\n",
              "      <td>2016-02-14</td>\n",
              "      <td>48845</td>\n",
              "      <td>SEG19</td>\n",
              "      <td>True</td>\n",
              "    </tr>\n",
              "    <tr>\n",
              "      <th>48</th>\n",
              "      <td>CTID95884307</td>\n",
              "      <td>2017-7197-7814-9950</td>\n",
              "      <td>2016-11-07</td>\n",
              "      <td>48588</td>\n",
              "      <td>SEG16</td>\n",
              "      <td>True</td>\n",
              "    </tr>\n",
              "    <tr>\n",
              "      <th>7</th>\n",
              "      <td>CTID54759604</td>\n",
              "      <td>8262-8743-6406-7105</td>\n",
              "      <td>2016-09-07</td>\n",
              "      <td>48567</td>\n",
              "      <td>SEG20</td>\n",
              "      <td>True</td>\n",
              "    </tr>\n",
              "    <tr>\n",
              "      <th>41</th>\n",
              "      <td>CTID55429304</td>\n",
              "      <td>9030-1667-6058-6173</td>\n",
              "      <td>2016-03-03</td>\n",
              "      <td>48514</td>\n",
              "      <td>SEG15</td>\n",
              "      <td>True</td>\n",
              "    </tr>\n",
              "    <tr>\n",
              "      <th>...</th>\n",
              "      <td>...</td>\n",
              "      <td>...</td>\n",
              "      <td>...</td>\n",
              "      <td>...</td>\n",
              "      <td>...</td>\n",
              "      <td>...</td>\n",
              "    </tr>\n",
              "    <tr>\n",
              "      <th>32</th>\n",
              "      <td>CTID92439353</td>\n",
              "      <td>8159-1257-4706-7544</td>\n",
              "      <td>2016-01-17</td>\n",
              "      <td>5079</td>\n",
              "      <td>SEG11</td>\n",
              "      <td>True</td>\n",
              "    </tr>\n",
              "    <tr>\n",
              "      <th>87</th>\n",
              "      <td>CTID43014391</td>\n",
              "      <td>8106-9789-1679-2552</td>\n",
              "      <td>2016-01-19</td>\n",
              "      <td>4195</td>\n",
              "      <td>SEG25</td>\n",
              "      <td>True</td>\n",
              "    </tr>\n",
              "    <tr>\n",
              "      <th>31</th>\n",
              "      <td>CTID56692687</td>\n",
              "      <td>3620-5235-2101-3391</td>\n",
              "      <td>2016-12-15</td>\n",
              "      <td>2211</td>\n",
              "      <td>SEG22</td>\n",
              "      <td>True</td>\n",
              "    </tr>\n",
              "    <tr>\n",
              "      <th>52</th>\n",
              "      <td>CTID52594996</td>\n",
              "      <td>8228-6661-8736-2838</td>\n",
              "      <td>2016-08-14</td>\n",
              "      <td>1570</td>\n",
              "      <td>SEG17</td>\n",
              "      <td>True</td>\n",
              "    </tr>\n",
              "    <tr>\n",
              "      <th>5</th>\n",
              "      <td>CTID26555772</td>\n",
              "      <td>5734-5619-8469-4044</td>\n",
              "      <td>2016-01-11</td>\n",
              "      <td>683</td>\n",
              "      <td>SEG22</td>\n",
              "      <td>True</td>\n",
              "    </tr>\n",
              "  </tbody>\n",
              "</table>\n",
              "<p>109 rows × 6 columns</p>\n",
              "</div>"
            ],
            "text/plain": [
              "    transaction_id          card_number  ... segment  fraud_flag\n",
              "6     CTID20567160  3295-6390-4452-7199  ...   SEG16        True\n",
              "100   CTID15034243  4562-2665-7578-1931  ...   SEG19        True\n",
              "48    CTID95884307  2017-7197-7814-9950  ...   SEG16        True\n",
              "7     CTID54759604  8262-8743-6406-7105  ...   SEG20        True\n",
              "41    CTID55429304  9030-1667-6058-6173  ...   SEG15        True\n",
              "..             ...                  ...  ...     ...         ...\n",
              "32    CTID92439353  8159-1257-4706-7544  ...   SEG11        True\n",
              "87    CTID43014391  8106-9789-1679-2552  ...   SEG25        True\n",
              "31    CTID56692687  3620-5235-2101-3391  ...   SEG22        True\n",
              "52    CTID52594996  8228-6661-8736-2838  ...   SEG17        True\n",
              "5     CTID26555772  5734-5619-8469-4044  ...   SEG22        True\n",
              "\n",
              "[109 rows x 6 columns]"
            ]
          },
          "metadata": {
            "tags": []
          },
          "execution_count": 13
        }
      ]
    },
    {
      "cell_type": "markdown",
      "metadata": {
        "id": "l8NfoxIkHF7F"
      },
      "source": [
        "Os ids das transações fraudulentas de maiores valores são: **CTID20567160, CTID15034243, CTID95884307, CTID54759604, CTID55429304**."
      ]
    },
    {
      "cell_type": "markdown",
      "metadata": {
        "id": "yVDM3k9DHwDZ"
      },
      "source": [
        "#2.Analysis:"
      ]
    },
    {
      "cell_type": "markdown",
      "metadata": {
        "id": "AC1c-XEkH07C"
      },
      "source": [
        "##Analyze whether or not the fraudulent transactions are somehow associated to the other features of the dataset. Explain your results."
      ]
    },
    {
      "cell_type": "markdown",
      "metadata": {
        "id": "dY-pD5RSKY8U"
      },
      "source": [
        "###Juntando todos os dados"
      ]
    },
    {
      "cell_type": "markdown",
      "metadata": {
        "id": "W82Jcy1VH3rd"
      },
      "source": [
        "Para facilitar essa análise é necessário juntar todos os Datasets, para isso basta fazer o merge da mesma forma que fizemos no item anterior.\n",
        "\n",
        "Para juntar todos os Datasets pegamos o ```id``` dos consumidores e usar como chave com ```o customer_id```, com isso juntos o DataFrame dos consumidores com o dos cartões, o das fraudes e das transações já juntamos no item anterior, para juntar os dois podemos usar o número do cartão, e assim temos todas as tabeas em um único DataFrame"
      ]
    },
    {
      "cell_type": "code",
      "metadata": {
        "id": "cnqeya5bJYpQ",
        "colab": {
          "base_uri": "https://localhost:8080/",
          "height": 424
        },
        "outputId": "5ccf043e-0c08-4f81-9aea-1928e1f0c3f3"
      },
      "source": [
        "# Renomeio a coluna id das transacoes para customer_id, isso eh necessario para fazer o merge entre os dois DataFrames\n",
        "# usando o id dos consumidores para colocar de forma certa as linhas\n",
        "customers.rename(columns={'id': 'customer_id'}, inplace=True)\n",
        "customers_cards = pd.merge(customers, cards, on='customer_id')\n",
        "customers_cards"
      ],
      "execution_count": 14,
      "outputs": [
        {
          "output_type": "execute_result",
          "data": {
            "text/html": [
              "<div>\n",
              "<style scoped>\n",
              "    .dataframe tbody tr th:only-of-type {\n",
              "        vertical-align: middle;\n",
              "    }\n",
              "\n",
              "    .dataframe tbody tr th {\n",
              "        vertical-align: top;\n",
              "    }\n",
              "\n",
              "    .dataframe thead th {\n",
              "        text-align: right;\n",
              "    }\n",
              "</style>\n",
              "<table border=\"1\" class=\"dataframe\">\n",
              "  <thead>\n",
              "    <tr style=\"text-align: right;\">\n",
              "      <th></th>\n",
              "      <th>customer_id</th>\n",
              "      <th>age</th>\n",
              "      <th>segment</th>\n",
              "      <th>vintage_group</th>\n",
              "      <th>card_number</th>\n",
              "      <th>card_family</th>\n",
              "      <th>credit_limit</th>\n",
              "    </tr>\n",
              "  </thead>\n",
              "  <tbody>\n",
              "    <tr>\n",
              "      <th>0</th>\n",
              "      <td>CC55858</td>\n",
              "      <td>30</td>\n",
              "      <td>Diamond</td>\n",
              "      <td>VG1</td>\n",
              "      <td>2868-5606-5152-5706</td>\n",
              "      <td>Gold</td>\n",
              "      <td>27000</td>\n",
              "    </tr>\n",
              "    <tr>\n",
              "      <th>1</th>\n",
              "      <td>CC46077</td>\n",
              "      <td>49</td>\n",
              "      <td>Diamond</td>\n",
              "      <td>VG1</td>\n",
              "      <td>6876-7378-4945-3251</td>\n",
              "      <td>Gold</td>\n",
              "      <td>44000</td>\n",
              "    </tr>\n",
              "    <tr>\n",
              "      <th>2</th>\n",
              "      <td>CC46484</td>\n",
              "      <td>49</td>\n",
              "      <td>Diamond</td>\n",
              "      <td>VG1</td>\n",
              "      <td>5556-4557-4566-1540</td>\n",
              "      <td>Gold</td>\n",
              "      <td>45000</td>\n",
              "    </tr>\n",
              "    <tr>\n",
              "      <th>3</th>\n",
              "      <td>CC59340</td>\n",
              "      <td>25</td>\n",
              "      <td>Diamond</td>\n",
              "      <td>VG1</td>\n",
              "      <td>5618-9718-9367-2102</td>\n",
              "      <td>Gold</td>\n",
              "      <td>14000</td>\n",
              "    </tr>\n",
              "    <tr>\n",
              "      <th>4</th>\n",
              "      <td>CC62994</td>\n",
              "      <td>48</td>\n",
              "      <td>Diamond</td>\n",
              "      <td>VG1</td>\n",
              "      <td>1652-7516-1273-1992</td>\n",
              "      <td>Platinum</td>\n",
              "      <td>180000</td>\n",
              "    </tr>\n",
              "    <tr>\n",
              "      <th>...</th>\n",
              "      <td>...</td>\n",
              "      <td>...</td>\n",
              "      <td>...</td>\n",
              "      <td>...</td>\n",
              "      <td>...</td>\n",
              "      <td>...</td>\n",
              "      <td>...</td>\n",
              "    </tr>\n",
              "    <tr>\n",
              "      <th>495</th>\n",
              "      <td>CC59562</td>\n",
              "      <td>39</td>\n",
              "      <td>Platinum</td>\n",
              "      <td>VG2</td>\n",
              "      <td>9157-2802-8374-1145</td>\n",
              "      <td>Premium</td>\n",
              "      <td>656000</td>\n",
              "    </tr>\n",
              "    <tr>\n",
              "      <th>496</th>\n",
              "      <td>CC15336</td>\n",
              "      <td>25</td>\n",
              "      <td>Platinum</td>\n",
              "      <td>VG2</td>\n",
              "      <td>2046-1892-2379-9050</td>\n",
              "      <td>Premium</td>\n",
              "      <td>313000</td>\n",
              "    </tr>\n",
              "    <tr>\n",
              "      <th>497</th>\n",
              "      <td>CC30954</td>\n",
              "      <td>49</td>\n",
              "      <td>Platinum</td>\n",
              "      <td>VG2</td>\n",
              "      <td>9558-5469-2562-5608</td>\n",
              "      <td>Premium</td>\n",
              "      <td>596000</td>\n",
              "    </tr>\n",
              "    <tr>\n",
              "      <th>498</th>\n",
              "      <td>CC13567</td>\n",
              "      <td>44</td>\n",
              "      <td>Platinum</td>\n",
              "      <td>VG2</td>\n",
              "      <td>1159-7886-1385-5540</td>\n",
              "      <td>Platinum</td>\n",
              "      <td>163000</td>\n",
              "    </tr>\n",
              "    <tr>\n",
              "      <th>499</th>\n",
              "      <td>CC42937</td>\n",
              "      <td>30</td>\n",
              "      <td>Platinum</td>\n",
              "      <td>VG2</td>\n",
              "      <td>7633-7985-2079-2990</td>\n",
              "      <td>Platinum</td>\n",
              "      <td>196000</td>\n",
              "    </tr>\n",
              "  </tbody>\n",
              "</table>\n",
              "<p>500 rows × 7 columns</p>\n",
              "</div>"
            ],
            "text/plain": [
              "    customer_id  age   segment  ...          card_number card_family credit_limit\n",
              "0       CC55858   30   Diamond  ...  2868-5606-5152-5706        Gold        27000\n",
              "1       CC46077   49   Diamond  ...  6876-7378-4945-3251        Gold        44000\n",
              "2       CC46484   49   Diamond  ...  5556-4557-4566-1540        Gold        45000\n",
              "3       CC59340   25   Diamond  ...  5618-9718-9367-2102        Gold        14000\n",
              "4       CC62994   48   Diamond  ...  1652-7516-1273-1992    Platinum       180000\n",
              "..          ...  ...       ...  ...                  ...         ...          ...\n",
              "495     CC59562   39  Platinum  ...  9157-2802-8374-1145     Premium       656000\n",
              "496     CC15336   25  Platinum  ...  2046-1892-2379-9050     Premium       313000\n",
              "497     CC30954   49  Platinum  ...  9558-5469-2562-5608     Premium       596000\n",
              "498     CC13567   44  Platinum  ...  1159-7886-1385-5540    Platinum       163000\n",
              "499     CC42937   30  Platinum  ...  7633-7985-2079-2990    Platinum       196000\n",
              "\n",
              "[500 rows x 7 columns]"
            ]
          },
          "metadata": {
            "tags": []
          },
          "execution_count": 14
        }
      ]
    },
    {
      "cell_type": "code",
      "metadata": {
        "id": "-1BJ95WJIFXC",
        "colab": {
          "base_uri": "https://localhost:8080/",
          "height": 424
        },
        "outputId": "2e254037-6d8f-4b09-d9cd-52b0e1733aa5"
      },
      "source": [
        "# Renomeio a coluna id das transacoes para transaction_id, isso eh necessario para fazer o merge entre os dois DataFrames\n",
        "# usando o id das transacoes para colocar de forma certa as linhas\n",
        "transactions.rename(columns = {'id':'transaction_id'}, inplace = True)\n",
        "transacoes_fraude = pd.merge(transactions, frauds, on='transaction_id', how='left').fillna(False)\n",
        "transacoes_fraude"
      ],
      "execution_count": 15,
      "outputs": [
        {
          "output_type": "execute_result",
          "data": {
            "text/html": [
              "<div>\n",
              "<style scoped>\n",
              "    .dataframe tbody tr th:only-of-type {\n",
              "        vertical-align: middle;\n",
              "    }\n",
              "\n",
              "    .dataframe tbody tr th {\n",
              "        vertical-align: top;\n",
              "    }\n",
              "\n",
              "    .dataframe thead th {\n",
              "        text-align: right;\n",
              "    }\n",
              "</style>\n",
              "<table border=\"1\" class=\"dataframe\">\n",
              "  <thead>\n",
              "    <tr style=\"text-align: right;\">\n",
              "      <th></th>\n",
              "      <th>transaction_id</th>\n",
              "      <th>card_number</th>\n",
              "      <th>transaction_date</th>\n",
              "      <th>value</th>\n",
              "      <th>segment</th>\n",
              "      <th>fraud_flag</th>\n",
              "    </tr>\n",
              "  </thead>\n",
              "  <tbody>\n",
              "    <tr>\n",
              "      <th>0</th>\n",
              "      <td>CTID28830551</td>\n",
              "      <td>1629-9566-3285-2123</td>\n",
              "      <td>2016-04-24</td>\n",
              "      <td>23649</td>\n",
              "      <td>SEG25</td>\n",
              "      <td>False</td>\n",
              "    </tr>\n",
              "    <tr>\n",
              "      <th>1</th>\n",
              "      <td>CTID45504917</td>\n",
              "      <td>3697-6001-4909-5350</td>\n",
              "      <td>2016-02-11</td>\n",
              "      <td>26726</td>\n",
              "      <td>SEG16</td>\n",
              "      <td>False</td>\n",
              "    </tr>\n",
              "    <tr>\n",
              "      <th>2</th>\n",
              "      <td>CTID47312290</td>\n",
              "      <td>5864-4475-3659-1440</td>\n",
              "      <td>2016-11-01</td>\n",
              "      <td>22012</td>\n",
              "      <td>SEG14</td>\n",
              "      <td>False</td>\n",
              "    </tr>\n",
              "    <tr>\n",
              "      <th>3</th>\n",
              "      <td>CTID25637718</td>\n",
              "      <td>5991-4421-8476-3804</td>\n",
              "      <td>2016-01-28</td>\n",
              "      <td>37637</td>\n",
              "      <td>SEG17</td>\n",
              "      <td>False</td>\n",
              "    </tr>\n",
              "    <tr>\n",
              "      <th>4</th>\n",
              "      <td>CTID66743960</td>\n",
              "      <td>1893-8853-9900-8478</td>\n",
              "      <td>2016-03-17</td>\n",
              "      <td>5113</td>\n",
              "      <td>SEG14</td>\n",
              "      <td>False</td>\n",
              "    </tr>\n",
              "    <tr>\n",
              "      <th>...</th>\n",
              "      <td>...</td>\n",
              "      <td>...</td>\n",
              "      <td>...</td>\n",
              "      <td>...</td>\n",
              "      <td>...</td>\n",
              "      <td>...</td>\n",
              "    </tr>\n",
              "    <tr>\n",
              "      <th>9995</th>\n",
              "      <td>CTID25037573</td>\n",
              "      <td>9157-2802-8374-1145</td>\n",
              "      <td>2016-06-10</td>\n",
              "      <td>44280</td>\n",
              "      <td>SEG18</td>\n",
              "      <td>False</td>\n",
              "    </tr>\n",
              "    <tr>\n",
              "      <th>9996</th>\n",
              "      <td>CTID43832298</td>\n",
              "      <td>7416-4529-6690-5703</td>\n",
              "      <td>2016-05-23</td>\n",
              "      <td>27163</td>\n",
              "      <td>SEG12</td>\n",
              "      <td>False</td>\n",
              "    </tr>\n",
              "    <tr>\n",
              "      <th>9997</th>\n",
              "      <td>CTID56532072</td>\n",
              "      <td>6699-2639-4522-6219</td>\n",
              "      <td>2016-08-06</td>\n",
              "      <td>36424</td>\n",
              "      <td>SEG13</td>\n",
              "      <td>False</td>\n",
              "    </tr>\n",
              "    <tr>\n",
              "      <th>9998</th>\n",
              "      <td>CTID88101446</td>\n",
              "      <td>8341-5263-4582-7396</td>\n",
              "      <td>2016-10-10</td>\n",
              "      <td>8464</td>\n",
              "      <td>SEG14</td>\n",
              "      <td>False</td>\n",
              "    </tr>\n",
              "    <tr>\n",
              "      <th>9999</th>\n",
              "      <td>CTID64730271</td>\n",
              "      <td>1947-8602-1695-7503</td>\n",
              "      <td>2016-06-18</td>\n",
              "      <td>7606</td>\n",
              "      <td>SEG15</td>\n",
              "      <td>False</td>\n",
              "    </tr>\n",
              "  </tbody>\n",
              "</table>\n",
              "<p>10000 rows × 6 columns</p>\n",
              "</div>"
            ],
            "text/plain": [
              "     transaction_id          card_number  ... segment  fraud_flag\n",
              "0      CTID28830551  1629-9566-3285-2123  ...   SEG25       False\n",
              "1      CTID45504917  3697-6001-4909-5350  ...   SEG16       False\n",
              "2      CTID47312290  5864-4475-3659-1440  ...   SEG14       False\n",
              "3      CTID25637718  5991-4421-8476-3804  ...   SEG17       False\n",
              "4      CTID66743960  1893-8853-9900-8478  ...   SEG14       False\n",
              "...             ...                  ...  ...     ...         ...\n",
              "9995   CTID25037573  9157-2802-8374-1145  ...   SEG18       False\n",
              "9996   CTID43832298  7416-4529-6690-5703  ...   SEG12       False\n",
              "9997   CTID56532072  6699-2639-4522-6219  ...   SEG13       False\n",
              "9998   CTID88101446  8341-5263-4582-7396  ...   SEG14       False\n",
              "9999   CTID64730271  1947-8602-1695-7503  ...   SEG15       False\n",
              "\n",
              "[10000 rows x 6 columns]"
            ]
          },
          "metadata": {
            "tags": []
          },
          "execution_count": 15
        }
      ]
    },
    {
      "cell_type": "code",
      "metadata": {
        "id": "SSLev0ISJ3zT",
        "colab": {
          "base_uri": "https://localhost:8080/",
          "height": 444
        },
        "outputId": "5c0056dd-8b83-43b2-892a-985864c1fe66"
      },
      "source": [
        "# Merge de todos as tabelas, e assim colocar todas as informacoes em um unico DataFrame\n",
        "df = pd.merge(customers_cards, transacoes_fraude, on='card_number')\n",
        "df"
      ],
      "execution_count": 16,
      "outputs": [
        {
          "output_type": "execute_result",
          "data": {
            "text/html": [
              "<div>\n",
              "<style scoped>\n",
              "    .dataframe tbody tr th:only-of-type {\n",
              "        vertical-align: middle;\n",
              "    }\n",
              "\n",
              "    .dataframe tbody tr th {\n",
              "        vertical-align: top;\n",
              "    }\n",
              "\n",
              "    .dataframe thead th {\n",
              "        text-align: right;\n",
              "    }\n",
              "</style>\n",
              "<table border=\"1\" class=\"dataframe\">\n",
              "  <thead>\n",
              "    <tr style=\"text-align: right;\">\n",
              "      <th></th>\n",
              "      <th>customer_id</th>\n",
              "      <th>age</th>\n",
              "      <th>segment_x</th>\n",
              "      <th>vintage_group</th>\n",
              "      <th>card_number</th>\n",
              "      <th>card_family</th>\n",
              "      <th>credit_limit</th>\n",
              "      <th>transaction_id</th>\n",
              "      <th>transaction_date</th>\n",
              "      <th>value</th>\n",
              "      <th>segment_y</th>\n",
              "      <th>fraud_flag</th>\n",
              "    </tr>\n",
              "  </thead>\n",
              "  <tbody>\n",
              "    <tr>\n",
              "      <th>0</th>\n",
              "      <td>CC55858</td>\n",
              "      <td>30</td>\n",
              "      <td>Diamond</td>\n",
              "      <td>VG1</td>\n",
              "      <td>2868-5606-5152-5706</td>\n",
              "      <td>Gold</td>\n",
              "      <td>27000</td>\n",
              "      <td>CTID98358171</td>\n",
              "      <td>2016-05-12</td>\n",
              "      <td>19701</td>\n",
              "      <td>SEG19</td>\n",
              "      <td>False</td>\n",
              "    </tr>\n",
              "    <tr>\n",
              "      <th>1</th>\n",
              "      <td>CC55858</td>\n",
              "      <td>30</td>\n",
              "      <td>Diamond</td>\n",
              "      <td>VG1</td>\n",
              "      <td>2868-5606-5152-5706</td>\n",
              "      <td>Gold</td>\n",
              "      <td>27000</td>\n",
              "      <td>CTID13079106</td>\n",
              "      <td>2016-06-17</td>\n",
              "      <td>22753</td>\n",
              "      <td>SEG16</td>\n",
              "      <td>False</td>\n",
              "    </tr>\n",
              "    <tr>\n",
              "      <th>2</th>\n",
              "      <td>CC55858</td>\n",
              "      <td>30</td>\n",
              "      <td>Diamond</td>\n",
              "      <td>VG1</td>\n",
              "      <td>2868-5606-5152-5706</td>\n",
              "      <td>Gold</td>\n",
              "      <td>27000</td>\n",
              "      <td>CTID60181351</td>\n",
              "      <td>2016-05-30</td>\n",
              "      <td>23901</td>\n",
              "      <td>SEG19</td>\n",
              "      <td>False</td>\n",
              "    </tr>\n",
              "    <tr>\n",
              "      <th>3</th>\n",
              "      <td>CC55858</td>\n",
              "      <td>30</td>\n",
              "      <td>Diamond</td>\n",
              "      <td>VG1</td>\n",
              "      <td>2868-5606-5152-5706</td>\n",
              "      <td>Gold</td>\n",
              "      <td>27000</td>\n",
              "      <td>CTID14362048</td>\n",
              "      <td>2016-01-10</td>\n",
              "      <td>46693</td>\n",
              "      <td>SEG17</td>\n",
              "      <td>False</td>\n",
              "    </tr>\n",
              "    <tr>\n",
              "      <th>4</th>\n",
              "      <td>CC55858</td>\n",
              "      <td>30</td>\n",
              "      <td>Diamond</td>\n",
              "      <td>VG1</td>\n",
              "      <td>2868-5606-5152-5706</td>\n",
              "      <td>Gold</td>\n",
              "      <td>27000</td>\n",
              "      <td>CTID52464565</td>\n",
              "      <td>2016-01-19</td>\n",
              "      <td>46666</td>\n",
              "      <td>SEG16</td>\n",
              "      <td>False</td>\n",
              "    </tr>\n",
              "    <tr>\n",
              "      <th>...</th>\n",
              "      <td>...</td>\n",
              "      <td>...</td>\n",
              "      <td>...</td>\n",
              "      <td>...</td>\n",
              "      <td>...</td>\n",
              "      <td>...</td>\n",
              "      <td>...</td>\n",
              "      <td>...</td>\n",
              "      <td>...</td>\n",
              "      <td>...</td>\n",
              "      <td>...</td>\n",
              "      <td>...</td>\n",
              "    </tr>\n",
              "    <tr>\n",
              "      <th>9995</th>\n",
              "      <td>CC42937</td>\n",
              "      <td>30</td>\n",
              "      <td>Platinum</td>\n",
              "      <td>VG2</td>\n",
              "      <td>7633-7985-2079-2990</td>\n",
              "      <td>Platinum</td>\n",
              "      <td>196000</td>\n",
              "      <td>CTID40011919</td>\n",
              "      <td>2016-08-29</td>\n",
              "      <td>23182</td>\n",
              "      <td>SEG22</td>\n",
              "      <td>False</td>\n",
              "    </tr>\n",
              "    <tr>\n",
              "      <th>9996</th>\n",
              "      <td>CC42937</td>\n",
              "      <td>30</td>\n",
              "      <td>Platinum</td>\n",
              "      <td>VG2</td>\n",
              "      <td>7633-7985-2079-2990</td>\n",
              "      <td>Platinum</td>\n",
              "      <td>196000</td>\n",
              "      <td>CTID44136345</td>\n",
              "      <td>2016-06-30</td>\n",
              "      <td>196</td>\n",
              "      <td>SEG24</td>\n",
              "      <td>False</td>\n",
              "    </tr>\n",
              "    <tr>\n",
              "      <th>9997</th>\n",
              "      <td>CC42937</td>\n",
              "      <td>30</td>\n",
              "      <td>Platinum</td>\n",
              "      <td>VG2</td>\n",
              "      <td>7633-7985-2079-2990</td>\n",
              "      <td>Platinum</td>\n",
              "      <td>196000</td>\n",
              "      <td>CTID31470785</td>\n",
              "      <td>2016-07-14</td>\n",
              "      <td>9858</td>\n",
              "      <td>SEG18</td>\n",
              "      <td>False</td>\n",
              "    </tr>\n",
              "    <tr>\n",
              "      <th>9998</th>\n",
              "      <td>CC42937</td>\n",
              "      <td>30</td>\n",
              "      <td>Platinum</td>\n",
              "      <td>VG2</td>\n",
              "      <td>7633-7985-2079-2990</td>\n",
              "      <td>Platinum</td>\n",
              "      <td>196000</td>\n",
              "      <td>CTID53959403</td>\n",
              "      <td>2016-09-04</td>\n",
              "      <td>24145</td>\n",
              "      <td>SEG13</td>\n",
              "      <td>False</td>\n",
              "    </tr>\n",
              "    <tr>\n",
              "      <th>9999</th>\n",
              "      <td>CC42937</td>\n",
              "      <td>30</td>\n",
              "      <td>Platinum</td>\n",
              "      <td>VG2</td>\n",
              "      <td>7633-7985-2079-2990</td>\n",
              "      <td>Platinum</td>\n",
              "      <td>196000</td>\n",
              "      <td>CTID50521127</td>\n",
              "      <td>2016-09-30</td>\n",
              "      <td>6026</td>\n",
              "      <td>SEG23</td>\n",
              "      <td>False</td>\n",
              "    </tr>\n",
              "  </tbody>\n",
              "</table>\n",
              "<p>10000 rows × 12 columns</p>\n",
              "</div>"
            ],
            "text/plain": [
              "     customer_id  age segment_x  ...  value segment_y fraud_flag\n",
              "0        CC55858   30   Diamond  ...  19701     SEG19      False\n",
              "1        CC55858   30   Diamond  ...  22753     SEG16      False\n",
              "2        CC55858   30   Diamond  ...  23901     SEG19      False\n",
              "3        CC55858   30   Diamond  ...  46693     SEG17      False\n",
              "4        CC55858   30   Diamond  ...  46666     SEG16      False\n",
              "...          ...  ...       ...  ...    ...       ...        ...\n",
              "9995     CC42937   30  Platinum  ...  23182     SEG22      False\n",
              "9996     CC42937   30  Platinum  ...    196     SEG24      False\n",
              "9997     CC42937   30  Platinum  ...   9858     SEG18      False\n",
              "9998     CC42937   30  Platinum  ...  24145     SEG13      False\n",
              "9999     CC42937   30  Platinum  ...   6026     SEG23      False\n",
              "\n",
              "[10000 rows x 12 columns]"
            ]
          },
          "metadata": {
            "tags": []
          },
          "execution_count": 16
        }
      ]
    },
    {
      "cell_type": "markdown",
      "metadata": {
        "id": "zZR0h71IKUvs"
      },
      "source": [
        "###Limpeza dos Dados"
      ]
    },
    {
      "cell_type": "markdown",
      "metadata": {
        "id": "OQV6d7XRKc2F"
      },
      "source": [
        "Para fazer boa parte das análises é necessário fazer algumas limpezas nos DataSets, de forma geral, informações únicas são as que queremos descartar, no nosso caso, os ids e os números dos cartões "
      ]
    },
    {
      "cell_type": "code",
      "metadata": {
        "id": "mgO1ertmKUCh",
        "colab": {
          "base_uri": "https://localhost:8080/",
          "height": 0
        },
        "outputId": "25a366de-5c82-4782-cd5b-67be152f26ce"
      },
      "source": [
        "df = df.drop(columns=['customer_id', 'card_number', 'transaction_id'])\n",
        "df"
      ],
      "execution_count": 17,
      "outputs": [
        {
          "output_type": "execute_result",
          "data": {
            "text/html": [
              "<div>\n",
              "<style scoped>\n",
              "    .dataframe tbody tr th:only-of-type {\n",
              "        vertical-align: middle;\n",
              "    }\n",
              "\n",
              "    .dataframe tbody tr th {\n",
              "        vertical-align: top;\n",
              "    }\n",
              "\n",
              "    .dataframe thead th {\n",
              "        text-align: right;\n",
              "    }\n",
              "</style>\n",
              "<table border=\"1\" class=\"dataframe\">\n",
              "  <thead>\n",
              "    <tr style=\"text-align: right;\">\n",
              "      <th></th>\n",
              "      <th>age</th>\n",
              "      <th>segment_x</th>\n",
              "      <th>vintage_group</th>\n",
              "      <th>card_family</th>\n",
              "      <th>credit_limit</th>\n",
              "      <th>transaction_date</th>\n",
              "      <th>value</th>\n",
              "      <th>segment_y</th>\n",
              "      <th>fraud_flag</th>\n",
              "    </tr>\n",
              "  </thead>\n",
              "  <tbody>\n",
              "    <tr>\n",
              "      <th>0</th>\n",
              "      <td>30</td>\n",
              "      <td>Diamond</td>\n",
              "      <td>VG1</td>\n",
              "      <td>Gold</td>\n",
              "      <td>27000</td>\n",
              "      <td>2016-05-12</td>\n",
              "      <td>19701</td>\n",
              "      <td>SEG19</td>\n",
              "      <td>False</td>\n",
              "    </tr>\n",
              "    <tr>\n",
              "      <th>1</th>\n",
              "      <td>30</td>\n",
              "      <td>Diamond</td>\n",
              "      <td>VG1</td>\n",
              "      <td>Gold</td>\n",
              "      <td>27000</td>\n",
              "      <td>2016-06-17</td>\n",
              "      <td>22753</td>\n",
              "      <td>SEG16</td>\n",
              "      <td>False</td>\n",
              "    </tr>\n",
              "    <tr>\n",
              "      <th>2</th>\n",
              "      <td>30</td>\n",
              "      <td>Diamond</td>\n",
              "      <td>VG1</td>\n",
              "      <td>Gold</td>\n",
              "      <td>27000</td>\n",
              "      <td>2016-05-30</td>\n",
              "      <td>23901</td>\n",
              "      <td>SEG19</td>\n",
              "      <td>False</td>\n",
              "    </tr>\n",
              "    <tr>\n",
              "      <th>3</th>\n",
              "      <td>30</td>\n",
              "      <td>Diamond</td>\n",
              "      <td>VG1</td>\n",
              "      <td>Gold</td>\n",
              "      <td>27000</td>\n",
              "      <td>2016-01-10</td>\n",
              "      <td>46693</td>\n",
              "      <td>SEG17</td>\n",
              "      <td>False</td>\n",
              "    </tr>\n",
              "    <tr>\n",
              "      <th>4</th>\n",
              "      <td>30</td>\n",
              "      <td>Diamond</td>\n",
              "      <td>VG1</td>\n",
              "      <td>Gold</td>\n",
              "      <td>27000</td>\n",
              "      <td>2016-01-19</td>\n",
              "      <td>46666</td>\n",
              "      <td>SEG16</td>\n",
              "      <td>False</td>\n",
              "    </tr>\n",
              "    <tr>\n",
              "      <th>...</th>\n",
              "      <td>...</td>\n",
              "      <td>...</td>\n",
              "      <td>...</td>\n",
              "      <td>...</td>\n",
              "      <td>...</td>\n",
              "      <td>...</td>\n",
              "      <td>...</td>\n",
              "      <td>...</td>\n",
              "      <td>...</td>\n",
              "    </tr>\n",
              "    <tr>\n",
              "      <th>9995</th>\n",
              "      <td>30</td>\n",
              "      <td>Platinum</td>\n",
              "      <td>VG2</td>\n",
              "      <td>Platinum</td>\n",
              "      <td>196000</td>\n",
              "      <td>2016-08-29</td>\n",
              "      <td>23182</td>\n",
              "      <td>SEG22</td>\n",
              "      <td>False</td>\n",
              "    </tr>\n",
              "    <tr>\n",
              "      <th>9996</th>\n",
              "      <td>30</td>\n",
              "      <td>Platinum</td>\n",
              "      <td>VG2</td>\n",
              "      <td>Platinum</td>\n",
              "      <td>196000</td>\n",
              "      <td>2016-06-30</td>\n",
              "      <td>196</td>\n",
              "      <td>SEG24</td>\n",
              "      <td>False</td>\n",
              "    </tr>\n",
              "    <tr>\n",
              "      <th>9997</th>\n",
              "      <td>30</td>\n",
              "      <td>Platinum</td>\n",
              "      <td>VG2</td>\n",
              "      <td>Platinum</td>\n",
              "      <td>196000</td>\n",
              "      <td>2016-07-14</td>\n",
              "      <td>9858</td>\n",
              "      <td>SEG18</td>\n",
              "      <td>False</td>\n",
              "    </tr>\n",
              "    <tr>\n",
              "      <th>9998</th>\n",
              "      <td>30</td>\n",
              "      <td>Platinum</td>\n",
              "      <td>VG2</td>\n",
              "      <td>Platinum</td>\n",
              "      <td>196000</td>\n",
              "      <td>2016-09-04</td>\n",
              "      <td>24145</td>\n",
              "      <td>SEG13</td>\n",
              "      <td>False</td>\n",
              "    </tr>\n",
              "    <tr>\n",
              "      <th>9999</th>\n",
              "      <td>30</td>\n",
              "      <td>Platinum</td>\n",
              "      <td>VG2</td>\n",
              "      <td>Platinum</td>\n",
              "      <td>196000</td>\n",
              "      <td>2016-09-30</td>\n",
              "      <td>6026</td>\n",
              "      <td>SEG23</td>\n",
              "      <td>False</td>\n",
              "    </tr>\n",
              "  </tbody>\n",
              "</table>\n",
              "<p>10000 rows × 9 columns</p>\n",
              "</div>"
            ],
            "text/plain": [
              "      age segment_x vintage_group  ...  value  segment_y fraud_flag\n",
              "0      30   Diamond           VG1  ...  19701      SEG19      False\n",
              "1      30   Diamond           VG1  ...  22753      SEG16      False\n",
              "2      30   Diamond           VG1  ...  23901      SEG19      False\n",
              "3      30   Diamond           VG1  ...  46693      SEG17      False\n",
              "4      30   Diamond           VG1  ...  46666      SEG16      False\n",
              "...   ...       ...           ...  ...    ...        ...        ...\n",
              "9995   30  Platinum           VG2  ...  23182      SEG22      False\n",
              "9996   30  Platinum           VG2  ...    196      SEG24      False\n",
              "9997   30  Platinum           VG2  ...   9858      SEG18      False\n",
              "9998   30  Platinum           VG2  ...  24145      SEG13      False\n",
              "9999   30  Platinum           VG2  ...   6026      SEG23      False\n",
              "\n",
              "[10000 rows x 9 columns]"
            ]
          },
          "metadata": {
            "tags": []
          },
          "execution_count": 17
        }
      ]
    },
    {
      "cell_type": "code",
      "metadata": {
        "id": "qlROzWqGNhSW",
        "colab": {
          "base_uri": "https://localhost:8080/",
          "height": 0
        },
        "outputId": "81c003e0-2a58-4b12-c53a-b44d30107a0d"
      },
      "source": [
        "df['transaction_date'] = df['transaction_date'].astype('str')\n",
        "df['transaction_date'] = df['transaction_date'].str.replace('-', '', regex=False)\n",
        "df['transaction_date'] = df['transaction_date'].astype('int')\n",
        "df"
      ],
      "execution_count": 18,
      "outputs": [
        {
          "output_type": "execute_result",
          "data": {
            "text/html": [
              "<div>\n",
              "<style scoped>\n",
              "    .dataframe tbody tr th:only-of-type {\n",
              "        vertical-align: middle;\n",
              "    }\n",
              "\n",
              "    .dataframe tbody tr th {\n",
              "        vertical-align: top;\n",
              "    }\n",
              "\n",
              "    .dataframe thead th {\n",
              "        text-align: right;\n",
              "    }\n",
              "</style>\n",
              "<table border=\"1\" class=\"dataframe\">\n",
              "  <thead>\n",
              "    <tr style=\"text-align: right;\">\n",
              "      <th></th>\n",
              "      <th>age</th>\n",
              "      <th>segment_x</th>\n",
              "      <th>vintage_group</th>\n",
              "      <th>card_family</th>\n",
              "      <th>credit_limit</th>\n",
              "      <th>transaction_date</th>\n",
              "      <th>value</th>\n",
              "      <th>segment_y</th>\n",
              "      <th>fraud_flag</th>\n",
              "    </tr>\n",
              "  </thead>\n",
              "  <tbody>\n",
              "    <tr>\n",
              "      <th>0</th>\n",
              "      <td>30</td>\n",
              "      <td>Diamond</td>\n",
              "      <td>VG1</td>\n",
              "      <td>Gold</td>\n",
              "      <td>27000</td>\n",
              "      <td>20160512</td>\n",
              "      <td>19701</td>\n",
              "      <td>SEG19</td>\n",
              "      <td>False</td>\n",
              "    </tr>\n",
              "    <tr>\n",
              "      <th>1</th>\n",
              "      <td>30</td>\n",
              "      <td>Diamond</td>\n",
              "      <td>VG1</td>\n",
              "      <td>Gold</td>\n",
              "      <td>27000</td>\n",
              "      <td>20160617</td>\n",
              "      <td>22753</td>\n",
              "      <td>SEG16</td>\n",
              "      <td>False</td>\n",
              "    </tr>\n",
              "    <tr>\n",
              "      <th>2</th>\n",
              "      <td>30</td>\n",
              "      <td>Diamond</td>\n",
              "      <td>VG1</td>\n",
              "      <td>Gold</td>\n",
              "      <td>27000</td>\n",
              "      <td>20160530</td>\n",
              "      <td>23901</td>\n",
              "      <td>SEG19</td>\n",
              "      <td>False</td>\n",
              "    </tr>\n",
              "    <tr>\n",
              "      <th>3</th>\n",
              "      <td>30</td>\n",
              "      <td>Diamond</td>\n",
              "      <td>VG1</td>\n",
              "      <td>Gold</td>\n",
              "      <td>27000</td>\n",
              "      <td>20160110</td>\n",
              "      <td>46693</td>\n",
              "      <td>SEG17</td>\n",
              "      <td>False</td>\n",
              "    </tr>\n",
              "    <tr>\n",
              "      <th>4</th>\n",
              "      <td>30</td>\n",
              "      <td>Diamond</td>\n",
              "      <td>VG1</td>\n",
              "      <td>Gold</td>\n",
              "      <td>27000</td>\n",
              "      <td>20160119</td>\n",
              "      <td>46666</td>\n",
              "      <td>SEG16</td>\n",
              "      <td>False</td>\n",
              "    </tr>\n",
              "    <tr>\n",
              "      <th>...</th>\n",
              "      <td>...</td>\n",
              "      <td>...</td>\n",
              "      <td>...</td>\n",
              "      <td>...</td>\n",
              "      <td>...</td>\n",
              "      <td>...</td>\n",
              "      <td>...</td>\n",
              "      <td>...</td>\n",
              "      <td>...</td>\n",
              "    </tr>\n",
              "    <tr>\n",
              "      <th>9995</th>\n",
              "      <td>30</td>\n",
              "      <td>Platinum</td>\n",
              "      <td>VG2</td>\n",
              "      <td>Platinum</td>\n",
              "      <td>196000</td>\n",
              "      <td>20160829</td>\n",
              "      <td>23182</td>\n",
              "      <td>SEG22</td>\n",
              "      <td>False</td>\n",
              "    </tr>\n",
              "    <tr>\n",
              "      <th>9996</th>\n",
              "      <td>30</td>\n",
              "      <td>Platinum</td>\n",
              "      <td>VG2</td>\n",
              "      <td>Platinum</td>\n",
              "      <td>196000</td>\n",
              "      <td>20160630</td>\n",
              "      <td>196</td>\n",
              "      <td>SEG24</td>\n",
              "      <td>False</td>\n",
              "    </tr>\n",
              "    <tr>\n",
              "      <th>9997</th>\n",
              "      <td>30</td>\n",
              "      <td>Platinum</td>\n",
              "      <td>VG2</td>\n",
              "      <td>Platinum</td>\n",
              "      <td>196000</td>\n",
              "      <td>20160714</td>\n",
              "      <td>9858</td>\n",
              "      <td>SEG18</td>\n",
              "      <td>False</td>\n",
              "    </tr>\n",
              "    <tr>\n",
              "      <th>9998</th>\n",
              "      <td>30</td>\n",
              "      <td>Platinum</td>\n",
              "      <td>VG2</td>\n",
              "      <td>Platinum</td>\n",
              "      <td>196000</td>\n",
              "      <td>20160904</td>\n",
              "      <td>24145</td>\n",
              "      <td>SEG13</td>\n",
              "      <td>False</td>\n",
              "    </tr>\n",
              "    <tr>\n",
              "      <th>9999</th>\n",
              "      <td>30</td>\n",
              "      <td>Platinum</td>\n",
              "      <td>VG2</td>\n",
              "      <td>Platinum</td>\n",
              "      <td>196000</td>\n",
              "      <td>20160930</td>\n",
              "      <td>6026</td>\n",
              "      <td>SEG23</td>\n",
              "      <td>False</td>\n",
              "    </tr>\n",
              "  </tbody>\n",
              "</table>\n",
              "<p>10000 rows × 9 columns</p>\n",
              "</div>"
            ],
            "text/plain": [
              "      age segment_x vintage_group  ...  value  segment_y  fraud_flag\n",
              "0      30   Diamond           VG1  ...  19701      SEG19       False\n",
              "1      30   Diamond           VG1  ...  22753      SEG16       False\n",
              "2      30   Diamond           VG1  ...  23901      SEG19       False\n",
              "3      30   Diamond           VG1  ...  46693      SEG17       False\n",
              "4      30   Diamond           VG1  ...  46666      SEG16       False\n",
              "...   ...       ...           ...  ...    ...        ...         ...\n",
              "9995   30  Platinum           VG2  ...  23182      SEG22       False\n",
              "9996   30  Platinum           VG2  ...    196      SEG24       False\n",
              "9997   30  Platinum           VG2  ...   9858      SEG18       False\n",
              "9998   30  Platinum           VG2  ...  24145      SEG13       False\n",
              "9999   30  Platinum           VG2  ...   6026      SEG23       False\n",
              "\n",
              "[10000 rows x 9 columns]"
            ]
          },
          "metadata": {
            "tags": []
          },
          "execution_count": 18
        }
      ]
    },
    {
      "cell_type": "markdown",
      "metadata": {
        "id": "rk8AS3-PS15O"
      },
      "source": [
        "###Análise dos dados(plots)"
      ]
    },
    {
      "cell_type": "markdown",
      "metadata": {
        "id": "tU9-mxLRpieO"
      },
      "source": [
        "####Imports e configurações"
      ]
    },
    {
      "cell_type": "code",
      "metadata": {
        "id": "_w2roEGtpizm"
      },
      "source": [
        "import matplotlib.pyplot as plt\n",
        "import seaborn as sns #importing seaborn module \n",
        "\n",
        "plt.style.use('ggplot')\n",
        "plt.rcParams['figure.figsize']=[6,3]\n",
        "plt.rcParams['figure.dpi']=80"
      ],
      "execution_count": 19,
      "outputs": []
    },
    {
      "cell_type": "markdown",
      "metadata": {
        "id": "UbCquyo-powz"
      },
      "source": [
        "####Distribuição dos valores da transação"
      ]
    },
    {
      "cell_type": "markdown",
      "metadata": {
        "id": "ia0AD8HREYFl"
      },
      "source": [
        "**Gráfico 1**"
      ]
    },
    {
      "cell_type": "code",
      "metadata": {
        "id": "fixJw-ekSCvr",
        "colab": {
          "base_uri": "https://localhost:8080/",
          "height": 282
        },
        "outputId": "7cb197da-d58d-4295-8e84-7065b3b97188"
      },
      "source": [
        "\n",
        "g = sns.stripplot(x=\"fraud_flag\", y=\"value\", data=df,jitter=True)"
      ],
      "execution_count": 49,
      "outputs": [
        {
          "output_type": "display_data",
          "data": {
            "image/png": "[encoded data removed]",
            "text/plain": [
              "<Figure size 432x288 with 1 Axes>"
            ]
          },
          "metadata": {
            "tags": [],
            "needs_background": "light"
          }
        }
      ]
    },
    {
      "cell_type": "markdown",
      "metadata": {
        "id": "bXfgW6G5qj5I"
      },
      "source": [
        "####Quantidade de cada seguimento nas fraudes"
      ]
    },
    {
      "cell_type": "markdown",
      "metadata": {
        "id": "hx81F0NhEfFo"
      },
      "source": [
        "**Gráfico 2**"
      ]
    },
    {
      "cell_type": "code",
      "metadata": {
        "id": "dqMH-MrZuWX9",
        "colab": {
          "base_uri": "https://localhost:8080/",
          "height": 0
        },
        "outputId": "68339300-63e0-4e99-b1a6-370646e49d96"
      },
      "source": [
        "df.groupby(['segment_x','fraud_flag'])['fraud_flag'].count()\n",
        "fraudes = df[df['fraud_flag']]\n",
        "sns.countplot(x='segment_x',data=fraudes)"
      ],
      "execution_count": 21,
      "outputs": [
        {
          "output_type": "execute_result",
          "data": {
            "text/plain": [
              "<matplotlib.axes._subplots.AxesSubplot at 0x7fdb07e9dcf8>"
            ]
          },
          "metadata": {
            "tags": []
          },
          "execution_count": 21
        },
        {
          "output_type": "display_data",
          "data": {
            "image/png": "[encoded data removed]",
            "text/plain": [
              "<Figure size 480x240 with 1 Axes>"
            ]
          },
          "metadata": {
            "tags": []
          }
        }
      ]
    },
    {
      "cell_type": "markdown",
      "metadata": {
        "id": "1lwQ7B3rEg-B"
      },
      "source": [
        "**Gráfico 3**"
      ]
    },
    {
      "cell_type": "code",
      "metadata": {
        "id": "AESECnjjEYgO",
        "colab": {
          "base_uri": "https://localhost:8080/",
          "height": 0
        },
        "outputId": "11e18f71-f12b-4e57-b0ce-9b54536b0076"
      },
      "source": [
        "df['segment_x'][df['fraud_flag']].value_counts().plot.pie(autopct=\"%1.1f%%\",figsize=(10,7))"
      ],
      "execution_count": 22,
      "outputs": [
        {
          "output_type": "execute_result",
          "data": {
            "text/plain": [
              "<matplotlib.axes._subplots.AxesSubplot at 0x7fdb07151908>"
            ]
          },
          "metadata": {
            "tags": []
          },
          "execution_count": 22
        },
        {
          "output_type": "display_data",
          "data": {
            "image/png": "[encoded data removed]",
            "text/plain": [
              "<Figure size 800x560 with 1 Axes>"
            ]
          },
          "metadata": {
            "tags": []
          }
        }
      ]
    },
    {
      "cell_type": "markdown",
      "metadata": {
        "id": "gIbuVZefq0A4"
      },
      "source": [
        "####Quantidade de ```card_family``` nas fraudes"
      ]
    },
    {
      "cell_type": "markdown",
      "metadata": {
        "id": "FVuww_S_EmLR"
      },
      "source": [
        "**Gráfico 4**"
      ]
    },
    {
      "cell_type": "code",
      "metadata": {
        "id": "IEXQNmdmu_1m",
        "colab": {
          "base_uri": "https://localhost:8080/",
          "height": 0
        },
        "outputId": "a782ba5d-9031-4c49-e32b-8314b8a6bb77"
      },
      "source": [
        "fraudes.groupby(['card_family','fraud_flag'])['fraud_flag'].count()\n",
        "sns.countplot(x='card_family',data=fraudes)"
      ],
      "execution_count": 23,
      "outputs": [
        {
          "output_type": "execute_result",
          "data": {
            "text/plain": [
              "<matplotlib.axes._subplots.AxesSubplot at 0x7fdb070ab4a8>"
            ]
          },
          "metadata": {
            "tags": []
          },
          "execution_count": 23
        },
        {
          "output_type": "display_data",
          "data": {
            "image/png": "[encoded data removed]",
            "text/plain": [
              "<Figure size 480x240 with 1 Axes>"
            ]
          },
          "metadata": {
            "tags": []
          }
        }
      ]
    },
    {
      "cell_type": "markdown",
      "metadata": {
        "id": "SgcbljPlEnir"
      },
      "source": [
        "**Gráfico 5**"
      ]
    },
    {
      "cell_type": "code",
      "metadata": {
        "colab": {
          "base_uri": "https://localhost:8080/",
          "height": 0
        },
        "id": "Uzkl0mHq4gcZ",
        "outputId": "6da7b054-1e39-47bc-ca41-6c98808c6ad2"
      },
      "source": [
        "fraudes['card_family'].value_counts().plot.pie(autopct=\"%1.1f%%\",figsize=(10,7))"
      ],
      "execution_count": 24,
      "outputs": [
        {
          "output_type": "execute_result",
          "data": {
            "text/plain": [
              "<matplotlib.axes._subplots.AxesSubplot at 0x7fdb07083eb8>"
            ]
          },
          "metadata": {
            "tags": []
          },
          "execution_count": 24
        },
        {
          "output_type": "display_data",
          "data": {
            "image/png": "[encoded data removed]",
            "text/plain": [
              "<Figure size 800x560 with 1 Axes>"
            ]
          },
          "metadata": {
            "tags": []
          }
        }
      ]
    },
    {
      "cell_type": "markdown",
      "metadata": {
        "id": "J3WqkoeBq8g8"
      },
      "source": [
        "####Distribuição das idades"
      ]
    },
    {
      "cell_type": "code",
      "metadata": {
        "id": "gv7ls_GxKnP-",
        "colab": {
          "base_uri": "https://localhost:8080/"
        },
        "outputId": "3acc900e-2f2a-465f-9243-a53f55789661"
      },
      "source": [
        "print('Idade do consumidor mais velho:',df['age'].max(),'anos')\n",
        "print('Idade do consumidor mais novo:',df['age'].min(),'anos')\n",
        "print('Idade média',df['age'].mean(),'anos')"
      ],
      "execution_count": 25,
      "outputs": [
        {
          "output_type": "stream",
          "text": [
            "Idade do consumidor mais velho: 50 anos\n",
            "Idade do consumidor mais novo: 20 anos\n",
            "Idade média 35.5712 anos\n"
          ],
          "name": "stdout"
        }
      ]
    },
    {
      "cell_type": "markdown",
      "metadata": {
        "id": "sisT-MQ7EqVG"
      },
      "source": [
        "**Gráfico 6**"
      ]
    },
    {
      "cell_type": "code",
      "metadata": {
        "id": "uYDbTEPZJkfF",
        "colab": {
          "base_uri": "https://localhost:8080/",
          "height": 0
        },
        "outputId": "96adfdc1-0598-46f0-b980-477402c230c0"
      },
      "source": [
        "plt.figure(figsize=(12,6))\n",
        "df[df['age']<200000].age.hist(bins=80,color='red')\n",
        "plt.axvline(df[df['age']<=100].age.mean(),color='black',linestyle='dashed',linewidth=3)\n",
        "plt.xlabel('Idade dos consumidores',fontsize=20)\n",
        "plt.ylabel('Número de pessoas',fontsize=20)\n",
        "plt.title('Distribuição das idades dos consumidores',fontsize=25)"
      ],
      "execution_count": 26,
      "outputs": [
        {
          "output_type": "execute_result",
          "data": {
            "text/plain": [
              "Text(0.5, 1.0, 'Distribuição das idades dos consumidores')"
            ]
          },
          "metadata": {
            "tags": []
          },
          "execution_count": 26
        },
        {
          "output_type": "display_data",
          "data": {
            "image/png": "[encoded data removed]",
            "text/plain": [
              "<Figure size 960x480 with 1 Axes>"
            ]
          },
          "metadata": {
            "tags": []
          }
        }
      ]
    },
    {
      "cell_type": "markdown",
      "metadata": {
        "id": "1ouUR12Hrcjl"
      },
      "source": [
        "**Distribuição da idade para cada situação**"
      ]
    },
    {
      "cell_type": "markdown",
      "metadata": {
        "id": "9XLx5uatEuDN"
      },
      "source": [
        "**Gráfico 7**"
      ]
    },
    {
      "cell_type": "code",
      "metadata": {
        "id": "Auqqm_xvKNOT",
        "colab": {
          "base_uri": "https://localhost:8080/",
          "height": 0
        },
        "outputId": "1d9192b5-85e8-448c-a6c3-94bdf7011854"
      },
      "source": [
        "f,ax=plt.subplots(1,2,figsize=(20,10))\n",
        "df[df['fraud_flag']==False].age.plot.hist(ax=ax[0],bins=20,edgecolor='black',color='red')\n",
        "ax[0].set_title('fraud_flag = False')\n",
        "x1=list(range(0,85,5))\n",
        "ax[0].set_xticks(x1)\n",
        "df[df['fraud_flag']].age.plot.hist(ax=ax[1],color='green',bins=20,edgecolor='black')\n",
        "ax[1].set_title('fraud_flag = True')\n",
        "x2=list(range(0,85,5))\n",
        "ax[1].set_xticks(x2)\n",
        "plt.show()"
      ],
      "execution_count": 27,
      "outputs": [
        {
          "output_type": "display_data",
          "data": {
            "image/png": "[encoded data removed]",
            "text/plain": [
              "<Figure size 1600x800 with 2 Axes>"
            ]
          },
          "metadata": {
            "tags": []
          }
        }
      ]
    },
    {
      "cell_type": "markdown",
      "metadata": {
        "id": "gWpekGa-rmqs"
      },
      "source": [
        "####Distribuição das fraudes em relação à data"
      ]
    },
    {
      "cell_type": "markdown",
      "metadata": {
        "id": "B4-GhAFWEwrT"
      },
      "source": [
        "**Gráfico 8**"
      ]
    },
    {
      "cell_type": "code",
      "metadata": {
        "id": "99b9MtZIR1Xs",
        "colab": {
          "base_uri": "https://localhost:8080/",
          "height": 262
        },
        "outputId": "65fc95e8-0d3b-4b68-f3b1-739d5cef7bd8"
      },
      "source": [
        "plt.scatter(x=df['transaction_date'][df['fraud_flag']], y=df['value'][df['fraud_flag']])"
      ],
      "execution_count": 28,
      "outputs": [
        {
          "output_type": "execute_result",
          "data": {
            "text/plain": [
              "<matplotlib.collections.PathCollection at 0x7fdb0451d278>"
            ]
          },
          "metadata": {
            "tags": []
          },
          "execution_count": 28
        },
        {
          "output_type": "display_data",
          "data": {
            "image/png": "[encoded data removed]",
            "text/plain": [
              "<Figure size 480x240 with 1 Axes>"
            ]
          },
          "metadata": {
            "tags": []
          }
        }
      ]
    },
    {
      "cell_type": "markdown",
      "metadata": {
        "id": "3SAOF1bNL3bZ"
      },
      "source": [
        "####Distribuição Pelo Limite de Créditos"
      ]
    },
    {
      "cell_type": "markdown",
      "metadata": {
        "id": "JwGKWfchMQH_"
      },
      "source": [
        "**Gráfico 9**"
      ]
    },
    {
      "cell_type": "code",
      "metadata": {
        "colab": {
          "base_uri": "https://localhost:8080/",
          "height": 282
        },
        "id": "qWeq3ugUL8tR",
        "outputId": "25d2b9e3-6b1d-4d10-f474-7fb619425d75"
      },
      "source": [
        "g = sns.stripplot(x=\"fraud_flag\", y=\"credit_limit\", data=df,jitter=True)"
      ],
      "execution_count": 50,
      "outputs": [
        {
          "output_type": "display_data",
          "data": {
            "image/png": "[encoded data removed]",
            "text/plain": [
              "<Figure size 432x288 with 1 Axes>"
            ]
          },
          "metadata": {
            "tags": [],
            "needs_background": "light"
          }
        }
      ]
    },
    {
      "cell_type": "markdown",
      "metadata": {
        "id": "mO6w8ibOsDBE"
      },
      "source": [
        "###A partir dos gráficos 7 e 8 podemos perceber que não há uma relação muito clara entre a ocorrência das fraudes com a idade e a data. Podemos concluir que pelos gráficos 2, 3, 4 e 5 a maioria das fraudes ocorrem no seguimento Diamente e na ```card_family``` Premium, além de que pelo gráfico 9 a maioria das fraudes ocorrem nos menores valores de limite de créditos, mas pelo valor da transferência temos uma distribuição bem homonegênea, com maior concentração em valores maiores.\n",
        "\n",
        "###Disso tudo podemos tirar que o valor das transferências tem uma relação pela ocorrência das fraudes, além de que pode haver uma relação entre a ```card_family``` e a ```segment_x```, já que há uma maioria de ocorrências em determinados setores."
      ]
    },
    {
      "cell_type": "markdown",
      "metadata": {
        "id": "xBAaNq1NS8-K"
      },
      "source": [
        "###Modelos"
      ]
    },
    {
      "cell_type": "markdown",
      "metadata": {
        "id": "xin0kSXbGHw9"
      },
      "source": [
        "Nessas seguintes células tento aplicar modelos simples de machine learning para ver se consigo obter alguma relação não perceptível entre a fraude e as demais labels. Contudo é importante notar que temos muitos poucos dados sobre a ocorrência da fraude, e caso usássemos todos os dados provavelmente os modelos ficarão com overfiting, dando um viés muito maior para não ser fraude"
      ]
    },
    {
      "cell_type": "markdown",
      "metadata": {
        "id": "AhtgPPG6G1e4"
      },
      "source": [
        "####Imports"
      ]
    },
    {
      "cell_type": "code",
      "metadata": {
        "id": "IPny9Og8G2Fp"
      },
      "source": [
        "from sklearn.model_selection import train_test_split\n",
        "from sklearn.utils import shuffle\n",
        "from sklearn.metrics import accuracy_score, confusion_matrix\n",
        "from sklearn.linear_model import LogisticRegression\n",
        "from sklearn.tree import DecisionTreeClassifier\n",
        "from sklearn import tree\n",
        "from sklearn.ensemble import RandomForestClassifier\n",
        "from sklearn.preprocessing import LabelEncoder\n"
      ],
      "execution_count": 29,
      "outputs": []
    },
    {
      "cell_type": "markdown",
      "metadata": {
        "id": "z3XOzQJUG_7K"
      },
      "source": [
        "####Funções para visualização"
      ]
    },
    {
      "cell_type": "code",
      "metadata": {
        "id": "naNhn8IAapwl"
      },
      "source": [
        "import matplotlib.pyplot as matplotlib\n",
        "import seaborn\n",
        "import pandas\n",
        "import numpy\n",
        "%matplotlib inline\n",
        "\n",
        "\n",
        "# Faz um plot da árvore de decisões\n",
        "def plot_tree(model,x_train):\n",
        "    matplotlib.figure(figsize=(15,15), facecolor='k')\n",
        "    tree.plot_tree(model, feature_names=x_train.columns, class_names=['True','False'], fontsize=14, filled=True)\n",
        "    matplotlib.show()\n",
        "\n",
        "# Faz um plot das importâncias para um Random Forest\n",
        "def plot_importances(model,df):\n",
        "    importances = model.feature_importances_\n",
        "    indices = numpy.argsort(importances)\n",
        "    matplotlib.figure(figsize=(12,8))\n",
        "    matplotlib.barh(range(len(indices)), importances[indices], color='b', align='center')\n",
        "    matplotlib.yticks(range(len(indices)), df.columns[indices])\n",
        "    matplotlib.suptitle('Importância das características')\n",
        "    matplotlib.show()\n",
        "    "
      ],
      "execution_count": 30,
      "outputs": []
    },
    {
      "cell_type": "markdown",
      "metadata": {
        "id": "G7ej_Mx6KtDe"
      },
      "source": [
        "####One Hot Encoder"
      ]
    },
    {
      "cell_type": "markdown",
      "metadata": {
        "id": "Qaj6cu-rHF6K"
      },
      "source": [
        "#####Tratamento do DataFrame para One Hot Encoder"
      ]
    },
    {
      "cell_type": "code",
      "metadata": {
        "id": "lE6K_GANNjLg",
        "colab": {
          "base_uri": "https://localhost:8080/",
          "height": 444
        },
        "outputId": "b2c58923-e9c1-4a11-96f0-df745e87f594"
      },
      "source": [
        "df_model = pd.get_dummies(df, columns=['vintage_group', 'card_family', 'segment_y', 'segment_x'])\n",
        "df_model"
      ],
      "execution_count": 43,
      "outputs": [
        {
          "output_type": "execute_result",
          "data": {
            "text/html": [
              "<div>\n",
              "<style scoped>\n",
              "    .dataframe tbody tr th:only-of-type {\n",
              "        vertical-align: middle;\n",
              "    }\n",
              "\n",
              "    .dataframe tbody tr th {\n",
              "        vertical-align: top;\n",
              "    }\n",
              "\n",
              "    .dataframe thead th {\n",
              "        text-align: right;\n",
              "    }\n",
              "</style>\n",
              "<table border=\"1\" class=\"dataframe\">\n",
              "  <thead>\n",
              "    <tr style=\"text-align: right;\">\n",
              "      <th></th>\n",
              "      <th>age</th>\n",
              "      <th>credit_limit</th>\n",
              "      <th>transaction_date</th>\n",
              "      <th>value</th>\n",
              "      <th>fraud_flag</th>\n",
              "      <th>vintage_group_0</th>\n",
              "      <th>vintage_group_1</th>\n",
              "      <th>vintage_group_2</th>\n",
              "      <th>card_family_0</th>\n",
              "      <th>card_family_1</th>\n",
              "      <th>card_family_2</th>\n",
              "      <th>segment_y_0</th>\n",
              "      <th>segment_y_1</th>\n",
              "      <th>segment_y_2</th>\n",
              "      <th>segment_y_3</th>\n",
              "      <th>segment_y_4</th>\n",
              "      <th>segment_y_5</th>\n",
              "      <th>segment_y_6</th>\n",
              "      <th>segment_y_7</th>\n",
              "      <th>segment_y_8</th>\n",
              "      <th>segment_y_9</th>\n",
              "      <th>segment_y_10</th>\n",
              "      <th>segment_y_11</th>\n",
              "      <th>segment_y_12</th>\n",
              "      <th>segment_y_13</th>\n",
              "      <th>segment_y_14</th>\n",
              "      <th>segment_x_0</th>\n",
              "      <th>segment_x_1</th>\n",
              "      <th>segment_x_2</th>\n",
              "    </tr>\n",
              "  </thead>\n",
              "  <tbody>\n",
              "    <tr>\n",
              "      <th>0</th>\n",
              "      <td>30</td>\n",
              "      <td>27000</td>\n",
              "      <td>20160512</td>\n",
              "      <td>19701</td>\n",
              "      <td>False</td>\n",
              "      <td>1</td>\n",
              "      <td>0</td>\n",
              "      <td>0</td>\n",
              "      <td>1</td>\n",
              "      <td>0</td>\n",
              "      <td>0</td>\n",
              "      <td>0</td>\n",
              "      <td>0</td>\n",
              "      <td>0</td>\n",
              "      <td>0</td>\n",
              "      <td>0</td>\n",
              "      <td>0</td>\n",
              "      <td>0</td>\n",
              "      <td>0</td>\n",
              "      <td>1</td>\n",
              "      <td>0</td>\n",
              "      <td>0</td>\n",
              "      <td>0</td>\n",
              "      <td>0</td>\n",
              "      <td>0</td>\n",
              "      <td>0</td>\n",
              "      <td>1</td>\n",
              "      <td>0</td>\n",
              "      <td>0</td>\n",
              "    </tr>\n",
              "    <tr>\n",
              "      <th>1</th>\n",
              "      <td>30</td>\n",
              "      <td>27000</td>\n",
              "      <td>20160617</td>\n",
              "      <td>22753</td>\n",
              "      <td>False</td>\n",
              "      <td>1</td>\n",
              "      <td>0</td>\n",
              "      <td>0</td>\n",
              "      <td>1</td>\n",
              "      <td>0</td>\n",
              "      <td>0</td>\n",
              "      <td>0</td>\n",
              "      <td>0</td>\n",
              "      <td>0</td>\n",
              "      <td>0</td>\n",
              "      <td>0</td>\n",
              "      <td>1</td>\n",
              "      <td>0</td>\n",
              "      <td>0</td>\n",
              "      <td>0</td>\n",
              "      <td>0</td>\n",
              "      <td>0</td>\n",
              "      <td>0</td>\n",
              "      <td>0</td>\n",
              "      <td>0</td>\n",
              "      <td>0</td>\n",
              "      <td>1</td>\n",
              "      <td>0</td>\n",
              "      <td>0</td>\n",
              "    </tr>\n",
              "    <tr>\n",
              "      <th>2</th>\n",
              "      <td>30</td>\n",
              "      <td>27000</td>\n",
              "      <td>20160530</td>\n",
              "      <td>23901</td>\n",
              "      <td>False</td>\n",
              "      <td>1</td>\n",
              "      <td>0</td>\n",
              "      <td>0</td>\n",
              "      <td>1</td>\n",
              "      <td>0</td>\n",
              "      <td>0</td>\n",
              "      <td>0</td>\n",
              "      <td>0</td>\n",
              "      <td>0</td>\n",
              "      <td>0</td>\n",
              "      <td>0</td>\n",
              "      <td>0</td>\n",
              "      <td>0</td>\n",
              "      <td>0</td>\n",
              "      <td>1</td>\n",
              "      <td>0</td>\n",
              "      <td>0</td>\n",
              "      <td>0</td>\n",
              "      <td>0</td>\n",
              "      <td>0</td>\n",
              "      <td>0</td>\n",
              "      <td>1</td>\n",
              "      <td>0</td>\n",
              "      <td>0</td>\n",
              "    </tr>\n",
              "    <tr>\n",
              "      <th>3</th>\n",
              "      <td>30</td>\n",
              "      <td>27000</td>\n",
              "      <td>20160110</td>\n",
              "      <td>46693</td>\n",
              "      <td>False</td>\n",
              "      <td>1</td>\n",
              "      <td>0</td>\n",
              "      <td>0</td>\n",
              "      <td>1</td>\n",
              "      <td>0</td>\n",
              "      <td>0</td>\n",
              "      <td>0</td>\n",
              "      <td>0</td>\n",
              "      <td>0</td>\n",
              "      <td>0</td>\n",
              "      <td>0</td>\n",
              "      <td>0</td>\n",
              "      <td>1</td>\n",
              "      <td>0</td>\n",
              "      <td>0</td>\n",
              "      <td>0</td>\n",
              "      <td>0</td>\n",
              "      <td>0</td>\n",
              "      <td>0</td>\n",
              "      <td>0</td>\n",
              "      <td>0</td>\n",
              "      <td>1</td>\n",
              "      <td>0</td>\n",
              "      <td>0</td>\n",
              "    </tr>\n",
              "    <tr>\n",
              "      <th>4</th>\n",
              "      <td>30</td>\n",
              "      <td>27000</td>\n",
              "      <td>20160119</td>\n",
              "      <td>46666</td>\n",
              "      <td>False</td>\n",
              "      <td>1</td>\n",
              "      <td>0</td>\n",
              "      <td>0</td>\n",
              "      <td>1</td>\n",
              "      <td>0</td>\n",
              "      <td>0</td>\n",
              "      <td>0</td>\n",
              "      <td>0</td>\n",
              "      <td>0</td>\n",
              "      <td>0</td>\n",
              "      <td>0</td>\n",
              "      <td>1</td>\n",
              "      <td>0</td>\n",
              "      <td>0</td>\n",
              "      <td>0</td>\n",
              "      <td>0</td>\n",
              "      <td>0</td>\n",
              "      <td>0</td>\n",
              "      <td>0</td>\n",
              "      <td>0</td>\n",
              "      <td>0</td>\n",
              "      <td>1</td>\n",
              "      <td>0</td>\n",
              "      <td>0</td>\n",
              "    </tr>\n",
              "    <tr>\n",
              "      <th>...</th>\n",
              "      <td>...</td>\n",
              "      <td>...</td>\n",
              "      <td>...</td>\n",
              "      <td>...</td>\n",
              "      <td>...</td>\n",
              "      <td>...</td>\n",
              "      <td>...</td>\n",
              "      <td>...</td>\n",
              "      <td>...</td>\n",
              "      <td>...</td>\n",
              "      <td>...</td>\n",
              "      <td>...</td>\n",
              "      <td>...</td>\n",
              "      <td>...</td>\n",
              "      <td>...</td>\n",
              "      <td>...</td>\n",
              "      <td>...</td>\n",
              "      <td>...</td>\n",
              "      <td>...</td>\n",
              "      <td>...</td>\n",
              "      <td>...</td>\n",
              "      <td>...</td>\n",
              "      <td>...</td>\n",
              "      <td>...</td>\n",
              "      <td>...</td>\n",
              "      <td>...</td>\n",
              "      <td>...</td>\n",
              "      <td>...</td>\n",
              "      <td>...</td>\n",
              "    </tr>\n",
              "    <tr>\n",
              "      <th>9995</th>\n",
              "      <td>30</td>\n",
              "      <td>196000</td>\n",
              "      <td>20160829</td>\n",
              "      <td>23182</td>\n",
              "      <td>False</td>\n",
              "      <td>0</td>\n",
              "      <td>1</td>\n",
              "      <td>0</td>\n",
              "      <td>0</td>\n",
              "      <td>1</td>\n",
              "      <td>0</td>\n",
              "      <td>0</td>\n",
              "      <td>0</td>\n",
              "      <td>0</td>\n",
              "      <td>0</td>\n",
              "      <td>0</td>\n",
              "      <td>0</td>\n",
              "      <td>0</td>\n",
              "      <td>0</td>\n",
              "      <td>0</td>\n",
              "      <td>0</td>\n",
              "      <td>0</td>\n",
              "      <td>1</td>\n",
              "      <td>0</td>\n",
              "      <td>0</td>\n",
              "      <td>0</td>\n",
              "      <td>0</td>\n",
              "      <td>0</td>\n",
              "      <td>1</td>\n",
              "    </tr>\n",
              "    <tr>\n",
              "      <th>9996</th>\n",
              "      <td>30</td>\n",
              "      <td>196000</td>\n",
              "      <td>20160630</td>\n",
              "      <td>196</td>\n",
              "      <td>False</td>\n",
              "      <td>0</td>\n",
              "      <td>1</td>\n",
              "      <td>0</td>\n",
              "      <td>0</td>\n",
              "      <td>1</td>\n",
              "      <td>0</td>\n",
              "      <td>0</td>\n",
              "      <td>0</td>\n",
              "      <td>0</td>\n",
              "      <td>0</td>\n",
              "      <td>0</td>\n",
              "      <td>0</td>\n",
              "      <td>0</td>\n",
              "      <td>0</td>\n",
              "      <td>0</td>\n",
              "      <td>0</td>\n",
              "      <td>0</td>\n",
              "      <td>0</td>\n",
              "      <td>0</td>\n",
              "      <td>1</td>\n",
              "      <td>0</td>\n",
              "      <td>0</td>\n",
              "      <td>0</td>\n",
              "      <td>1</td>\n",
              "    </tr>\n",
              "    <tr>\n",
              "      <th>9997</th>\n",
              "      <td>30</td>\n",
              "      <td>196000</td>\n",
              "      <td>20160714</td>\n",
              "      <td>9858</td>\n",
              "      <td>False</td>\n",
              "      <td>0</td>\n",
              "      <td>1</td>\n",
              "      <td>0</td>\n",
              "      <td>0</td>\n",
              "      <td>1</td>\n",
              "      <td>0</td>\n",
              "      <td>0</td>\n",
              "      <td>0</td>\n",
              "      <td>0</td>\n",
              "      <td>0</td>\n",
              "      <td>0</td>\n",
              "      <td>0</td>\n",
              "      <td>0</td>\n",
              "      <td>1</td>\n",
              "      <td>0</td>\n",
              "      <td>0</td>\n",
              "      <td>0</td>\n",
              "      <td>0</td>\n",
              "      <td>0</td>\n",
              "      <td>0</td>\n",
              "      <td>0</td>\n",
              "      <td>0</td>\n",
              "      <td>0</td>\n",
              "      <td>1</td>\n",
              "    </tr>\n",
              "    <tr>\n",
              "      <th>9998</th>\n",
              "      <td>30</td>\n",
              "      <td>196000</td>\n",
              "      <td>20160904</td>\n",
              "      <td>24145</td>\n",
              "      <td>False</td>\n",
              "      <td>0</td>\n",
              "      <td>1</td>\n",
              "      <td>0</td>\n",
              "      <td>0</td>\n",
              "      <td>1</td>\n",
              "      <td>0</td>\n",
              "      <td>0</td>\n",
              "      <td>0</td>\n",
              "      <td>1</td>\n",
              "      <td>0</td>\n",
              "      <td>0</td>\n",
              "      <td>0</td>\n",
              "      <td>0</td>\n",
              "      <td>0</td>\n",
              "      <td>0</td>\n",
              "      <td>0</td>\n",
              "      <td>0</td>\n",
              "      <td>0</td>\n",
              "      <td>0</td>\n",
              "      <td>0</td>\n",
              "      <td>0</td>\n",
              "      <td>0</td>\n",
              "      <td>0</td>\n",
              "      <td>1</td>\n",
              "    </tr>\n",
              "    <tr>\n",
              "      <th>9999</th>\n",
              "      <td>30</td>\n",
              "      <td>196000</td>\n",
              "      <td>20160930</td>\n",
              "      <td>6026</td>\n",
              "      <td>False</td>\n",
              "      <td>0</td>\n",
              "      <td>1</td>\n",
              "      <td>0</td>\n",
              "      <td>0</td>\n",
              "      <td>1</td>\n",
              "      <td>0</td>\n",
              "      <td>0</td>\n",
              "      <td>0</td>\n",
              "      <td>0</td>\n",
              "      <td>0</td>\n",
              "      <td>0</td>\n",
              "      <td>0</td>\n",
              "      <td>0</td>\n",
              "      <td>0</td>\n",
              "      <td>0</td>\n",
              "      <td>0</td>\n",
              "      <td>0</td>\n",
              "      <td>0</td>\n",
              "      <td>1</td>\n",
              "      <td>0</td>\n",
              "      <td>0</td>\n",
              "      <td>0</td>\n",
              "      <td>0</td>\n",
              "      <td>1</td>\n",
              "    </tr>\n",
              "  </tbody>\n",
              "</table>\n",
              "<p>10000 rows × 29 columns</p>\n",
              "</div>"
            ],
            "text/plain": [
              "      age  credit_limit  ...  segment_x_1  segment_x_2\n",
              "0      30         27000  ...            0            0\n",
              "1      30         27000  ...            0            0\n",
              "2      30         27000  ...            0            0\n",
              "3      30         27000  ...            0            0\n",
              "4      30         27000  ...            0            0\n",
              "...   ...           ...  ...          ...          ...\n",
              "9995   30        196000  ...            0            1\n",
              "9996   30        196000  ...            0            1\n",
              "9997   30        196000  ...            0            1\n",
              "9998   30        196000  ...            0            1\n",
              "9999   30        196000  ...            0            1\n",
              "\n",
              "[10000 rows x 29 columns]"
            ]
          },
          "metadata": {
            "tags": []
          },
          "execution_count": 43
        }
      ]
    },
    {
      "cell_type": "code",
      "metadata": {
        "id": "0g5SFsAnK8m7"
      },
      "source": [
        "data = df_model[df_model['fraud_flag'] == False].sample(frac = 0.02)\n",
        "data = pd.concat([df_model[df_model['fraud_flag'] == True], data])\n",
        "y = data['fraud_flag']\n",
        "X = data.drop(columns=['fraud_flag'])\n",
        "x_train, x_test, y_train, y_test = train_test_split( X, y, test_size=0.33, random_state=42)"
      ],
      "execution_count": 44,
      "outputs": []
    },
    {
      "cell_type": "code",
      "metadata": {
        "id": "Y-kmNl7raHUE",
        "colab": {
          "base_uri": "https://localhost:8080/",
          "height": 444
        },
        "outputId": "ddd719c6-1e1e-41b5-9623-28b9b395bfaa"
      },
      "source": [
        "data"
      ],
      "execution_count": 45,
      "outputs": [
        {
          "output_type": "execute_result",
          "data": {
            "text/html": [
              "<div>\n",
              "<style scoped>\n",
              "    .dataframe tbody tr th:only-of-type {\n",
              "        vertical-align: middle;\n",
              "    }\n",
              "\n",
              "    .dataframe tbody tr th {\n",
              "        vertical-align: top;\n",
              "    }\n",
              "\n",
              "    .dataframe thead th {\n",
              "        text-align: right;\n",
              "    }\n",
              "</style>\n",
              "<table border=\"1\" class=\"dataframe\">\n",
              "  <thead>\n",
              "    <tr style=\"text-align: right;\">\n",
              "      <th></th>\n",
              "      <th>age</th>\n",
              "      <th>credit_limit</th>\n",
              "      <th>transaction_date</th>\n",
              "      <th>value</th>\n",
              "      <th>fraud_flag</th>\n",
              "      <th>vintage_group_0</th>\n",
              "      <th>vintage_group_1</th>\n",
              "      <th>vintage_group_2</th>\n",
              "      <th>card_family_0</th>\n",
              "      <th>card_family_1</th>\n",
              "      <th>card_family_2</th>\n",
              "      <th>segment_y_0</th>\n",
              "      <th>segment_y_1</th>\n",
              "      <th>segment_y_2</th>\n",
              "      <th>segment_y_3</th>\n",
              "      <th>segment_y_4</th>\n",
              "      <th>segment_y_5</th>\n",
              "      <th>segment_y_6</th>\n",
              "      <th>segment_y_7</th>\n",
              "      <th>segment_y_8</th>\n",
              "      <th>segment_y_9</th>\n",
              "      <th>segment_y_10</th>\n",
              "      <th>segment_y_11</th>\n",
              "      <th>segment_y_12</th>\n",
              "      <th>segment_y_13</th>\n",
              "      <th>segment_y_14</th>\n",
              "      <th>segment_x_0</th>\n",
              "      <th>segment_x_1</th>\n",
              "      <th>segment_x_2</th>\n",
              "    </tr>\n",
              "  </thead>\n",
              "  <tbody>\n",
              "    <tr>\n",
              "      <th>269</th>\n",
              "      <td>26</td>\n",
              "      <td>20000</td>\n",
              "      <td>20160618</td>\n",
              "      <td>45760</td>\n",
              "      <td>True</td>\n",
              "      <td>1</td>\n",
              "      <td>0</td>\n",
              "      <td>0</td>\n",
              "      <td>1</td>\n",
              "      <td>0</td>\n",
              "      <td>0</td>\n",
              "      <td>0</td>\n",
              "      <td>0</td>\n",
              "      <td>0</td>\n",
              "      <td>0</td>\n",
              "      <td>0</td>\n",
              "      <td>0</td>\n",
              "      <td>0</td>\n",
              "      <td>0</td>\n",
              "      <td>0</td>\n",
              "      <td>0</td>\n",
              "      <td>0</td>\n",
              "      <td>0</td>\n",
              "      <td>1</td>\n",
              "      <td>0</td>\n",
              "      <td>0</td>\n",
              "      <td>1</td>\n",
              "      <td>0</td>\n",
              "      <td>0</td>\n",
              "    </tr>\n",
              "    <tr>\n",
              "      <th>330</th>\n",
              "      <td>23</td>\n",
              "      <td>167000</td>\n",
              "      <td>20161121</td>\n",
              "      <td>21462</td>\n",
              "      <td>True</td>\n",
              "      <td>1</td>\n",
              "      <td>0</td>\n",
              "      <td>0</td>\n",
              "      <td>0</td>\n",
              "      <td>1</td>\n",
              "      <td>0</td>\n",
              "      <td>0</td>\n",
              "      <td>0</td>\n",
              "      <td>0</td>\n",
              "      <td>0</td>\n",
              "      <td>0</td>\n",
              "      <td>0</td>\n",
              "      <td>0</td>\n",
              "      <td>1</td>\n",
              "      <td>0</td>\n",
              "      <td>0</td>\n",
              "      <td>0</td>\n",
              "      <td>0</td>\n",
              "      <td>0</td>\n",
              "      <td>0</td>\n",
              "      <td>0</td>\n",
              "      <td>1</td>\n",
              "      <td>0</td>\n",
              "      <td>0</td>\n",
              "    </tr>\n",
              "    <tr>\n",
              "      <th>403</th>\n",
              "      <td>35</td>\n",
              "      <td>492000</td>\n",
              "      <td>20161115</td>\n",
              "      <td>48453</td>\n",
              "      <td>True</td>\n",
              "      <td>1</td>\n",
              "      <td>0</td>\n",
              "      <td>0</td>\n",
              "      <td>0</td>\n",
              "      <td>0</td>\n",
              "      <td>1</td>\n",
              "      <td>0</td>\n",
              "      <td>1</td>\n",
              "      <td>0</td>\n",
              "      <td>0</td>\n",
              "      <td>0</td>\n",
              "      <td>0</td>\n",
              "      <td>0</td>\n",
              "      <td>0</td>\n",
              "      <td>0</td>\n",
              "      <td>0</td>\n",
              "      <td>0</td>\n",
              "      <td>0</td>\n",
              "      <td>0</td>\n",
              "      <td>0</td>\n",
              "      <td>0</td>\n",
              "      <td>1</td>\n",
              "      <td>0</td>\n",
              "      <td>0</td>\n",
              "    </tr>\n",
              "    <tr>\n",
              "      <th>425</th>\n",
              "      <td>32</td>\n",
              "      <td>50000</td>\n",
              "      <td>20160824</td>\n",
              "      <td>30339</td>\n",
              "      <td>True</td>\n",
              "      <td>1</td>\n",
              "      <td>0</td>\n",
              "      <td>0</td>\n",
              "      <td>1</td>\n",
              "      <td>0</td>\n",
              "      <td>0</td>\n",
              "      <td>1</td>\n",
              "      <td>0</td>\n",
              "      <td>0</td>\n",
              "      <td>0</td>\n",
              "      <td>0</td>\n",
              "      <td>0</td>\n",
              "      <td>0</td>\n",
              "      <td>0</td>\n",
              "      <td>0</td>\n",
              "      <td>0</td>\n",
              "      <td>0</td>\n",
              "      <td>0</td>\n",
              "      <td>0</td>\n",
              "      <td>0</td>\n",
              "      <td>0</td>\n",
              "      <td>1</td>\n",
              "      <td>0</td>\n",
              "      <td>0</td>\n",
              "    </tr>\n",
              "    <tr>\n",
              "      <th>445</th>\n",
              "      <td>41</td>\n",
              "      <td>112000</td>\n",
              "      <td>20160606</td>\n",
              "      <td>37002</td>\n",
              "      <td>True</td>\n",
              "      <td>1</td>\n",
              "      <td>0</td>\n",
              "      <td>0</td>\n",
              "      <td>0</td>\n",
              "      <td>1</td>\n",
              "      <td>0</td>\n",
              "      <td>0</td>\n",
              "      <td>0</td>\n",
              "      <td>0</td>\n",
              "      <td>0</td>\n",
              "      <td>0</td>\n",
              "      <td>0</td>\n",
              "      <td>0</td>\n",
              "      <td>0</td>\n",
              "      <td>0</td>\n",
              "      <td>0</td>\n",
              "      <td>0</td>\n",
              "      <td>0</td>\n",
              "      <td>0</td>\n",
              "      <td>1</td>\n",
              "      <td>0</td>\n",
              "      <td>1</td>\n",
              "      <td>0</td>\n",
              "      <td>0</td>\n",
              "    </tr>\n",
              "    <tr>\n",
              "      <th>...</th>\n",
              "      <td>...</td>\n",
              "      <td>...</td>\n",
              "      <td>...</td>\n",
              "      <td>...</td>\n",
              "      <td>...</td>\n",
              "      <td>...</td>\n",
              "      <td>...</td>\n",
              "      <td>...</td>\n",
              "      <td>...</td>\n",
              "      <td>...</td>\n",
              "      <td>...</td>\n",
              "      <td>...</td>\n",
              "      <td>...</td>\n",
              "      <td>...</td>\n",
              "      <td>...</td>\n",
              "      <td>...</td>\n",
              "      <td>...</td>\n",
              "      <td>...</td>\n",
              "      <td>...</td>\n",
              "      <td>...</td>\n",
              "      <td>...</td>\n",
              "      <td>...</td>\n",
              "      <td>...</td>\n",
              "      <td>...</td>\n",
              "      <td>...</td>\n",
              "      <td>...</td>\n",
              "      <td>...</td>\n",
              "      <td>...</td>\n",
              "      <td>...</td>\n",
              "    </tr>\n",
              "    <tr>\n",
              "      <th>2941</th>\n",
              "      <td>33</td>\n",
              "      <td>104000</td>\n",
              "      <td>20160308</td>\n",
              "      <td>4322</td>\n",
              "      <td>False</td>\n",
              "      <td>0</td>\n",
              "      <td>0</td>\n",
              "      <td>1</td>\n",
              "      <td>0</td>\n",
              "      <td>1</td>\n",
              "      <td>0</td>\n",
              "      <td>0</td>\n",
              "      <td>0</td>\n",
              "      <td>0</td>\n",
              "      <td>0</td>\n",
              "      <td>0</td>\n",
              "      <td>0</td>\n",
              "      <td>0</td>\n",
              "      <td>0</td>\n",
              "      <td>0</td>\n",
              "      <td>1</td>\n",
              "      <td>0</td>\n",
              "      <td>0</td>\n",
              "      <td>0</td>\n",
              "      <td>0</td>\n",
              "      <td>0</td>\n",
              "      <td>0</td>\n",
              "      <td>1</td>\n",
              "      <td>0</td>\n",
              "    </tr>\n",
              "    <tr>\n",
              "      <th>1774</th>\n",
              "      <td>33</td>\n",
              "      <td>45000</td>\n",
              "      <td>20160110</td>\n",
              "      <td>34178</td>\n",
              "      <td>False</td>\n",
              "      <td>0</td>\n",
              "      <td>0</td>\n",
              "      <td>1</td>\n",
              "      <td>1</td>\n",
              "      <td>0</td>\n",
              "      <td>0</td>\n",
              "      <td>0</td>\n",
              "      <td>0</td>\n",
              "      <td>0</td>\n",
              "      <td>0</td>\n",
              "      <td>0</td>\n",
              "      <td>0</td>\n",
              "      <td>0</td>\n",
              "      <td>0</td>\n",
              "      <td>0</td>\n",
              "      <td>0</td>\n",
              "      <td>1</td>\n",
              "      <td>0</td>\n",
              "      <td>0</td>\n",
              "      <td>0</td>\n",
              "      <td>0</td>\n",
              "      <td>0</td>\n",
              "      <td>1</td>\n",
              "      <td>0</td>\n",
              "    </tr>\n",
              "    <tr>\n",
              "      <th>9463</th>\n",
              "      <td>40</td>\n",
              "      <td>650000</td>\n",
              "      <td>20161211</td>\n",
              "      <td>15951</td>\n",
              "      <td>False</td>\n",
              "      <td>0</td>\n",
              "      <td>1</td>\n",
              "      <td>0</td>\n",
              "      <td>0</td>\n",
              "      <td>0</td>\n",
              "      <td>1</td>\n",
              "      <td>0</td>\n",
              "      <td>0</td>\n",
              "      <td>0</td>\n",
              "      <td>1</td>\n",
              "      <td>0</td>\n",
              "      <td>0</td>\n",
              "      <td>0</td>\n",
              "      <td>0</td>\n",
              "      <td>0</td>\n",
              "      <td>0</td>\n",
              "      <td>0</td>\n",
              "      <td>0</td>\n",
              "      <td>0</td>\n",
              "      <td>0</td>\n",
              "      <td>0</td>\n",
              "      <td>0</td>\n",
              "      <td>0</td>\n",
              "      <td>1</td>\n",
              "    </tr>\n",
              "    <tr>\n",
              "      <th>171</th>\n",
              "      <td>45</td>\n",
              "      <td>22000</td>\n",
              "      <td>20161015</td>\n",
              "      <td>6860</td>\n",
              "      <td>False</td>\n",
              "      <td>1</td>\n",
              "      <td>0</td>\n",
              "      <td>0</td>\n",
              "      <td>1</td>\n",
              "      <td>0</td>\n",
              "      <td>0</td>\n",
              "      <td>0</td>\n",
              "      <td>0</td>\n",
              "      <td>0</td>\n",
              "      <td>0</td>\n",
              "      <td>0</td>\n",
              "      <td>0</td>\n",
              "      <td>0</td>\n",
              "      <td>1</td>\n",
              "      <td>0</td>\n",
              "      <td>0</td>\n",
              "      <td>0</td>\n",
              "      <td>0</td>\n",
              "      <td>0</td>\n",
              "      <td>0</td>\n",
              "      <td>0</td>\n",
              "      <td>1</td>\n",
              "      <td>0</td>\n",
              "      <td>0</td>\n",
              "    </tr>\n",
              "    <tr>\n",
              "      <th>7791</th>\n",
              "      <td>37</td>\n",
              "      <td>19000</td>\n",
              "      <td>20161122</td>\n",
              "      <td>49308</td>\n",
              "      <td>False</td>\n",
              "      <td>1</td>\n",
              "      <td>0</td>\n",
              "      <td>0</td>\n",
              "      <td>1</td>\n",
              "      <td>0</td>\n",
              "      <td>0</td>\n",
              "      <td>0</td>\n",
              "      <td>0</td>\n",
              "      <td>0</td>\n",
              "      <td>0</td>\n",
              "      <td>0</td>\n",
              "      <td>0</td>\n",
              "      <td>0</td>\n",
              "      <td>0</td>\n",
              "      <td>0</td>\n",
              "      <td>0</td>\n",
              "      <td>0</td>\n",
              "      <td>0</td>\n",
              "      <td>0</td>\n",
              "      <td>1</td>\n",
              "      <td>0</td>\n",
              "      <td>1</td>\n",
              "      <td>0</td>\n",
              "      <td>0</td>\n",
              "    </tr>\n",
              "  </tbody>\n",
              "</table>\n",
              "<p>307 rows × 29 columns</p>\n",
              "</div>"
            ],
            "text/plain": [
              "      age  credit_limit  ...  segment_x_1  segment_x_2\n",
              "269    26         20000  ...            0            0\n",
              "330    23        167000  ...            0            0\n",
              "403    35        492000  ...            0            0\n",
              "425    32         50000  ...            0            0\n",
              "445    41        112000  ...            0            0\n",
              "...   ...           ...  ...          ...          ...\n",
              "2941   33        104000  ...            1            0\n",
              "1774   33         45000  ...            1            0\n",
              "9463   40        650000  ...            0            1\n",
              "171    45         22000  ...            0            0\n",
              "7791   37         19000  ...            0            0\n",
              "\n",
              "[307 rows x 29 columns]"
            ]
          },
          "metadata": {
            "tags": []
          },
          "execution_count": 45
        }
      ]
    },
    {
      "cell_type": "markdown",
      "metadata": {
        "id": "EWIJvjoCHhF3"
      },
      "source": [
        "#####Regressão Logística"
      ]
    },
    {
      "cell_type": "code",
      "metadata": {
        "id": "4Q8zT0lONRkB",
        "colab": {
          "base_uri": "https://localhost:8080/"
        },
        "outputId": "3362bde8-e77e-4061-b0b3-3aad80d2b590"
      },
      "source": [
        "\n",
        "model = LogisticRegression()\n",
        "model.fit(x_train,y_train)\n",
        "\n",
        "result = model.predict(x_test)\n",
        "print(accuracy_score(result, y_test))\n",
        "print(confusion_matrix(result, y_test))"
      ],
      "execution_count": 46,
      "outputs": [
        {
          "output_type": "stream",
          "text": [
            "0.5980392156862745\n",
            "[[61 41]\n",
            " [ 0  0]]\n"
          ],
          "name": "stdout"
        }
      ]
    },
    {
      "cell_type": "markdown",
      "metadata": {
        "id": "BWqj6XZUHkdm"
      },
      "source": [
        "#####Árvore de Decisão"
      ]
    },
    {
      "cell_type": "code",
      "metadata": {
        "id": "8F1Jv4LcaX3h",
        "colab": {
          "base_uri": "https://localhost:8080/",
          "height": 898
        },
        "outputId": "b54d077f-1e37-44df-d779-1399dfda82c8"
      },
      "source": [
        "\n",
        "\n",
        "model = DecisionTreeClassifier(max_depth = 3, min_samples_leaf = 20)\n",
        "model.fit(x_train,y_train)\n",
        "\n",
        "result = model.predict(x_test)\n",
        "print(accuracy_score(result, y_test))\n",
        "print(confusion_matrix(result, y_test))\n",
        "plot_tree(model,x_train)"
      ],
      "execution_count": 47,
      "outputs": [
        {
          "output_type": "stream",
          "text": [
            "0.5980392156862745\n",
            "[[53 33]\n",
            " [ 8  8]]\n"
          ],
          "name": "stdout"
        },
        {
          "output_type": "display_data",
          "data": {
            "image/png": "[encoded data removed]",
            "text/plain": [
              "<Figure size 1080x1080 with 1 Axes>"
            ]
          },
          "metadata": {
            "tags": []
          }
        }
      ]
    },
    {
      "cell_type": "markdown",
      "metadata": {
        "id": "EPDPVeWOHohw"
      },
      "source": [
        "#####Random Forest"
      ]
    },
    {
      "cell_type": "code",
      "metadata": {
        "id": "Hc8aujODbILy",
        "colab": {
          "base_uri": "https://localhost:8080/",
          "height": 592
        },
        "outputId": "4dc12a51-4cfa-41f4-f405-354bce3ad749"
      },
      "source": [
        "\n",
        "\n",
        "model = RandomForestClassifier()\n",
        "model.fit(x_train,y_train)\n",
        "\n",
        "result = model.predict(x_test)\n",
        "print(accuracy_score(result, y_test))\n",
        "print(confusion_matrix(result, y_test))\n",
        "#plot_importances(model,data)\n",
        "\n",
        "importances = model.feature_importances_\n",
        "indices = numpy.argsort(importances)\n",
        "plt.figure(figsize=(12,8))\n",
        "plt.barh(range(len(indices)), importances[indices], color='b', align='center')\n",
        "plt.yticks(range(len(indices)), data.columns[indices])\n",
        "plt.suptitle('Importância das características')\n",
        "plt.show()"
      ],
      "execution_count": 48,
      "outputs": [
        {
          "output_type": "stream",
          "text": [
            "0.6372549019607843\n",
            "[[56 32]\n",
            " [ 5  9]]\n"
          ],
          "name": "stdout"
        },
        {
          "output_type": "display_data",
          "data": {
            "image/png": "[encoded data removed]",
            "text/plain": [
              "<Figure size 864x576 with 1 Axes>"
            ]
          },
          "metadata": {
            "tags": [],
            "needs_background": "light"
          }
        }
      ]
    },
    {
      "cell_type": "markdown",
      "metadata": {
        "id": "v5ifBuSqI95B"
      },
      "source": [
        "####Encoder numérico"
      ]
    },
    {
      "cell_type": "markdown",
      "metadata": {
        "id": "7UveOkBAK87Z"
      },
      "source": [
        "#####Tratamento do DataFrame para One Hot Encoder"
      ]
    },
    {
      "cell_type": "code",
      "metadata": {
        "colab": {
          "base_uri": "https://localhost:8080/",
          "height": 424
        },
        "id": "hytC1t03JOLO",
        "outputId": "3d874cd8-0700-470b-a6db-e9a2ebf870ab"
      },
      "source": [
        "lb_make = LabelEncoder()\n",
        "df_model = df\n",
        "df_model[\"vintage_group\"] = lb_make.fit_transform(df[\"vintage_group\"])\n",
        "df_model[\"card_family\"] = lb_make.fit_transform(df[\"card_family\"])\n",
        "df_model[\"segment_y\"] = lb_make.fit_transform(df[\"segment_y\"])\n",
        "df_model[\"segment_x\"] = lb_make.fit_transform(df[\"segment_x\"])\n",
        "df_model"
      ],
      "execution_count": 37,
      "outputs": [
        {
          "output_type": "execute_result",
          "data": {
            "text/html": [
              "<div>\n",
              "<style scoped>\n",
              "    .dataframe tbody tr th:only-of-type {\n",
              "        vertical-align: middle;\n",
              "    }\n",
              "\n",
              "    .dataframe tbody tr th {\n",
              "        vertical-align: top;\n",
              "    }\n",
              "\n",
              "    .dataframe thead th {\n",
              "        text-align: right;\n",
              "    }\n",
              "</style>\n",
              "<table border=\"1\" class=\"dataframe\">\n",
              "  <thead>\n",
              "    <tr style=\"text-align: right;\">\n",
              "      <th></th>\n",
              "      <th>age</th>\n",
              "      <th>segment_x</th>\n",
              "      <th>vintage_group</th>\n",
              "      <th>card_family</th>\n",
              "      <th>credit_limit</th>\n",
              "      <th>transaction_date</th>\n",
              "      <th>value</th>\n",
              "      <th>segment_y</th>\n",
              "      <th>fraud_flag</th>\n",
              "    </tr>\n",
              "  </thead>\n",
              "  <tbody>\n",
              "    <tr>\n",
              "      <th>0</th>\n",
              "      <td>30</td>\n",
              "      <td>0</td>\n",
              "      <td>0</td>\n",
              "      <td>0</td>\n",
              "      <td>27000</td>\n",
              "      <td>20160512</td>\n",
              "      <td>19701</td>\n",
              "      <td>8</td>\n",
              "      <td>False</td>\n",
              "    </tr>\n",
              "    <tr>\n",
              "      <th>1</th>\n",
              "      <td>30</td>\n",
              "      <td>0</td>\n",
              "      <td>0</td>\n",
              "      <td>0</td>\n",
              "      <td>27000</td>\n",
              "      <td>20160617</td>\n",
              "      <td>22753</td>\n",
              "      <td>5</td>\n",
              "      <td>False</td>\n",
              "    </tr>\n",
              "    <tr>\n",
              "      <th>2</th>\n",
              "      <td>30</td>\n",
              "      <td>0</td>\n",
              "      <td>0</td>\n",
              "      <td>0</td>\n",
              "      <td>27000</td>\n",
              "      <td>20160530</td>\n",
              "      <td>23901</td>\n",
              "      <td>8</td>\n",
              "      <td>False</td>\n",
              "    </tr>\n",
              "    <tr>\n",
              "      <th>3</th>\n",
              "      <td>30</td>\n",
              "      <td>0</td>\n",
              "      <td>0</td>\n",
              "      <td>0</td>\n",
              "      <td>27000</td>\n",
              "      <td>20160110</td>\n",
              "      <td>46693</td>\n",
              "      <td>6</td>\n",
              "      <td>False</td>\n",
              "    </tr>\n",
              "    <tr>\n",
              "      <th>4</th>\n",
              "      <td>30</td>\n",
              "      <td>0</td>\n",
              "      <td>0</td>\n",
              "      <td>0</td>\n",
              "      <td>27000</td>\n",
              "      <td>20160119</td>\n",
              "      <td>46666</td>\n",
              "      <td>5</td>\n",
              "      <td>False</td>\n",
              "    </tr>\n",
              "    <tr>\n",
              "      <th>...</th>\n",
              "      <td>...</td>\n",
              "      <td>...</td>\n",
              "      <td>...</td>\n",
              "      <td>...</td>\n",
              "      <td>...</td>\n",
              "      <td>...</td>\n",
              "      <td>...</td>\n",
              "      <td>...</td>\n",
              "      <td>...</td>\n",
              "    </tr>\n",
              "    <tr>\n",
              "      <th>9995</th>\n",
              "      <td>30</td>\n",
              "      <td>2</td>\n",
              "      <td>1</td>\n",
              "      <td>1</td>\n",
              "      <td>196000</td>\n",
              "      <td>20160829</td>\n",
              "      <td>23182</td>\n",
              "      <td>11</td>\n",
              "      <td>False</td>\n",
              "    </tr>\n",
              "    <tr>\n",
              "      <th>9996</th>\n",
              "      <td>30</td>\n",
              "      <td>2</td>\n",
              "      <td>1</td>\n",
              "      <td>1</td>\n",
              "      <td>196000</td>\n",
              "      <td>20160630</td>\n",
              "      <td>196</td>\n",
              "      <td>13</td>\n",
              "      <td>False</td>\n",
              "    </tr>\n",
              "    <tr>\n",
              "      <th>9997</th>\n",
              "      <td>30</td>\n",
              "      <td>2</td>\n",
              "      <td>1</td>\n",
              "      <td>1</td>\n",
              "      <td>196000</td>\n",
              "      <td>20160714</td>\n",
              "      <td>9858</td>\n",
              "      <td>7</td>\n",
              "      <td>False</td>\n",
              "    </tr>\n",
              "    <tr>\n",
              "      <th>9998</th>\n",
              "      <td>30</td>\n",
              "      <td>2</td>\n",
              "      <td>1</td>\n",
              "      <td>1</td>\n",
              "      <td>196000</td>\n",
              "      <td>20160904</td>\n",
              "      <td>24145</td>\n",
              "      <td>2</td>\n",
              "      <td>False</td>\n",
              "    </tr>\n",
              "    <tr>\n",
              "      <th>9999</th>\n",
              "      <td>30</td>\n",
              "      <td>2</td>\n",
              "      <td>1</td>\n",
              "      <td>1</td>\n",
              "      <td>196000</td>\n",
              "      <td>20160930</td>\n",
              "      <td>6026</td>\n",
              "      <td>12</td>\n",
              "      <td>False</td>\n",
              "    </tr>\n",
              "  </tbody>\n",
              "</table>\n",
              "<p>10000 rows × 9 columns</p>\n",
              "</div>"
            ],
            "text/plain": [
              "      age  segment_x  vintage_group  ...  value  segment_y  fraud_flag\n",
              "0      30          0              0  ...  19701          8       False\n",
              "1      30          0              0  ...  22753          5       False\n",
              "2      30          0              0  ...  23901          8       False\n",
              "3      30          0              0  ...  46693          6       False\n",
              "4      30          0              0  ...  46666          5       False\n",
              "...   ...        ...            ...  ...    ...        ...         ...\n",
              "9995   30          2              1  ...  23182         11       False\n",
              "9996   30          2              1  ...    196         13       False\n",
              "9997   30          2              1  ...   9858          7       False\n",
              "9998   30          2              1  ...  24145          2       False\n",
              "9999   30          2              1  ...   6026         12       False\n",
              "\n",
              "[10000 rows x 9 columns]"
            ]
          },
          "metadata": {
            "tags": []
          },
          "execution_count": 37
        }
      ]
    },
    {
      "cell_type": "code",
      "metadata": {
        "id": "kYbcJhDbLD4G"
      },
      "source": [
        "data = df_model[df_model['fraud_flag'] == False].sample(frac = 0.02)\n",
        "data = pd.concat([df_model[df_model['fraud_flag'] == True], data])\n",
        "y = data['fraud_flag']\n",
        "X = data.drop(columns=['fraud_flag'])\n",
        "x_train, x_test, y_train, y_test = train_test_split( X, y, test_size=0.33, random_state=42)"
      ],
      "execution_count": 38,
      "outputs": []
    },
    {
      "cell_type": "code",
      "metadata": {
        "colab": {
          "base_uri": "https://localhost:8080/",
          "height": 424
        },
        "id": "14thgOzCLIdB",
        "outputId": "40c80961-cbe8-4a2c-a674-99b6873a2d25"
      },
      "source": [
        "data"
      ],
      "execution_count": 39,
      "outputs": [
        {
          "output_type": "execute_result",
          "data": {
            "text/html": [
              "<div>\n",
              "<style scoped>\n",
              "    .dataframe tbody tr th:only-of-type {\n",
              "        vertical-align: middle;\n",
              "    }\n",
              "\n",
              "    .dataframe tbody tr th {\n",
              "        vertical-align: top;\n",
              "    }\n",
              "\n",
              "    .dataframe thead th {\n",
              "        text-align: right;\n",
              "    }\n",
              "</style>\n",
              "<table border=\"1\" class=\"dataframe\">\n",
              "  <thead>\n",
              "    <tr style=\"text-align: right;\">\n",
              "      <th></th>\n",
              "      <th>age</th>\n",
              "      <th>segment_x</th>\n",
              "      <th>vintage_group</th>\n",
              "      <th>card_family</th>\n",
              "      <th>credit_limit</th>\n",
              "      <th>transaction_date</th>\n",
              "      <th>value</th>\n",
              "      <th>segment_y</th>\n",
              "      <th>fraud_flag</th>\n",
              "    </tr>\n",
              "  </thead>\n",
              "  <tbody>\n",
              "    <tr>\n",
              "      <th>269</th>\n",
              "      <td>26</td>\n",
              "      <td>0</td>\n",
              "      <td>0</td>\n",
              "      <td>0</td>\n",
              "      <td>20000</td>\n",
              "      <td>20160618</td>\n",
              "      <td>45760</td>\n",
              "      <td>12</td>\n",
              "      <td>True</td>\n",
              "    </tr>\n",
              "    <tr>\n",
              "      <th>330</th>\n",
              "      <td>23</td>\n",
              "      <td>0</td>\n",
              "      <td>0</td>\n",
              "      <td>1</td>\n",
              "      <td>167000</td>\n",
              "      <td>20161121</td>\n",
              "      <td>21462</td>\n",
              "      <td>7</td>\n",
              "      <td>True</td>\n",
              "    </tr>\n",
              "    <tr>\n",
              "      <th>403</th>\n",
              "      <td>35</td>\n",
              "      <td>0</td>\n",
              "      <td>0</td>\n",
              "      <td>2</td>\n",
              "      <td>492000</td>\n",
              "      <td>20161115</td>\n",
              "      <td>48453</td>\n",
              "      <td>1</td>\n",
              "      <td>True</td>\n",
              "    </tr>\n",
              "    <tr>\n",
              "      <th>425</th>\n",
              "      <td>32</td>\n",
              "      <td>0</td>\n",
              "      <td>0</td>\n",
              "      <td>0</td>\n",
              "      <td>50000</td>\n",
              "      <td>20160824</td>\n",
              "      <td>30339</td>\n",
              "      <td>0</td>\n",
              "      <td>True</td>\n",
              "    </tr>\n",
              "    <tr>\n",
              "      <th>445</th>\n",
              "      <td>41</td>\n",
              "      <td>0</td>\n",
              "      <td>0</td>\n",
              "      <td>1</td>\n",
              "      <td>112000</td>\n",
              "      <td>20160606</td>\n",
              "      <td>37002</td>\n",
              "      <td>13</td>\n",
              "      <td>True</td>\n",
              "    </tr>\n",
              "    <tr>\n",
              "      <th>...</th>\n",
              "      <td>...</td>\n",
              "      <td>...</td>\n",
              "      <td>...</td>\n",
              "      <td>...</td>\n",
              "      <td>...</td>\n",
              "      <td>...</td>\n",
              "      <td>...</td>\n",
              "      <td>...</td>\n",
              "      <td>...</td>\n",
              "    </tr>\n",
              "    <tr>\n",
              "      <th>4501</th>\n",
              "      <td>37</td>\n",
              "      <td>0</td>\n",
              "      <td>0</td>\n",
              "      <td>0</td>\n",
              "      <td>43000</td>\n",
              "      <td>20160429</td>\n",
              "      <td>41629</td>\n",
              "      <td>5</td>\n",
              "      <td>False</td>\n",
              "    </tr>\n",
              "    <tr>\n",
              "      <th>6296</th>\n",
              "      <td>23</td>\n",
              "      <td>1</td>\n",
              "      <td>2</td>\n",
              "      <td>1</td>\n",
              "      <td>194000</td>\n",
              "      <td>20160615</td>\n",
              "      <td>12238</td>\n",
              "      <td>12</td>\n",
              "      <td>False</td>\n",
              "    </tr>\n",
              "    <tr>\n",
              "      <th>579</th>\n",
              "      <td>25</td>\n",
              "      <td>0</td>\n",
              "      <td>0</td>\n",
              "      <td>0</td>\n",
              "      <td>44000</td>\n",
              "      <td>20160428</td>\n",
              "      <td>21750</td>\n",
              "      <td>12</td>\n",
              "      <td>False</td>\n",
              "    </tr>\n",
              "    <tr>\n",
              "      <th>6436</th>\n",
              "      <td>35</td>\n",
              "      <td>2</td>\n",
              "      <td>1</td>\n",
              "      <td>0</td>\n",
              "      <td>34000</td>\n",
              "      <td>20161122</td>\n",
              "      <td>36479</td>\n",
              "      <td>8</td>\n",
              "      <td>False</td>\n",
              "    </tr>\n",
              "    <tr>\n",
              "      <th>4935</th>\n",
              "      <td>33</td>\n",
              "      <td>0</td>\n",
              "      <td>0</td>\n",
              "      <td>1</td>\n",
              "      <td>165000</td>\n",
              "      <td>20160814</td>\n",
              "      <td>29138</td>\n",
              "      <td>10</td>\n",
              "      <td>False</td>\n",
              "    </tr>\n",
              "  </tbody>\n",
              "</table>\n",
              "<p>307 rows × 9 columns</p>\n",
              "</div>"
            ],
            "text/plain": [
              "      age  segment_x  vintage_group  ...  value  segment_y  fraud_flag\n",
              "269    26          0              0  ...  45760         12        True\n",
              "330    23          0              0  ...  21462          7        True\n",
              "403    35          0              0  ...  48453          1        True\n",
              "425    32          0              0  ...  30339          0        True\n",
              "445    41          0              0  ...  37002         13        True\n",
              "...   ...        ...            ...  ...    ...        ...         ...\n",
              "4501   37          0              0  ...  41629          5       False\n",
              "6296   23          1              2  ...  12238         12       False\n",
              "579    25          0              0  ...  21750         12       False\n",
              "6436   35          2              1  ...  36479          8       False\n",
              "4935   33          0              0  ...  29138         10       False\n",
              "\n",
              "[307 rows x 9 columns]"
            ]
          },
          "metadata": {
            "tags": []
          },
          "execution_count": 39
        }
      ]
    },
    {
      "cell_type": "markdown",
      "metadata": {
        "id": "RBLMiBWUK2fg"
      },
      "source": [
        "#####Regressão Logística"
      ]
    },
    {
      "cell_type": "code",
      "metadata": {
        "colab": {
          "base_uri": "https://localhost:8080/"
        },
        "id": "qDe0xH9VK2fh",
        "outputId": "48f23ea3-16d8-4d71-81ce-b1965c9e2c4d"
      },
      "source": [
        "\n",
        "model = LogisticRegression()\n",
        "model.fit(x_train,y_train)\n",
        "\n",
        "result = model.predict(x_test)\n",
        "print(accuracy_score(result, y_test))\n",
        "print(confusion_matrix(result, y_test))"
      ],
      "execution_count": 40,
      "outputs": [
        {
          "output_type": "stream",
          "text": [
            "0.5980392156862745\n",
            "[[61 41]\n",
            " [ 0  0]]\n"
          ],
          "name": "stdout"
        }
      ]
    },
    {
      "cell_type": "markdown",
      "metadata": {
        "id": "5uUwn5jRLMVt"
      },
      "source": [
        "#####Árvore de Decisão"
      ]
    },
    {
      "cell_type": "code",
      "metadata": {
        "colab": {
          "base_uri": "https://localhost:8080/",
          "height": 898
        },
        "id": "SluxMNqILMVu",
        "outputId": "f49125f3-500e-4182-9fc3-6fceca325737"
      },
      "source": [
        "\n",
        "\n",
        "model = DecisionTreeClassifier(max_depth = 3, min_samples_leaf = 20)\n",
        "model.fit(x_train,y_train)\n",
        "\n",
        "result = model.predict(x_test)\n",
        "print(accuracy_score(result, y_test))\n",
        "print(confusion_matrix(result, y_test))\n",
        "plot_tree(model,x_train)"
      ],
      "execution_count": 41,
      "outputs": [
        {
          "output_type": "stream",
          "text": [
            "0.5882352941176471\n",
            "[[57 38]\n",
            " [ 4  3]]\n"
          ],
          "name": "stdout"
        },
        {
          "output_type": "display_data",
          "data": {
            "image/png": "[encoded data removed]",
            "text/plain": [
              "<Figure size 1080x1080 with 1 Axes>"
            ]
          },
          "metadata": {
            "tags": []
          }
        }
      ]
    },
    {
      "cell_type": "markdown",
      "metadata": {
        "id": "ogT5tmhJLPrd"
      },
      "source": [
        "#####Random Forest"
      ]
    },
    {
      "cell_type": "code",
      "metadata": {
        "colab": {
          "base_uri": "https://localhost:8080/",
          "height": 592
        },
        "id": "1qdEGrrTLPrd",
        "outputId": "bed6d3fd-354f-40f9-d8c9-dcf9be80b0f1"
      },
      "source": [
        "\n",
        "\n",
        "model = RandomForestClassifier()\n",
        "model.fit(x_train,y_train)\n",
        "\n",
        "result = model.predict(x_test)\n",
        "print(accuracy_score(result, y_test))\n",
        "print(confusion_matrix(result, y_test))\n",
        "#plot_importances(model,data)\n",
        "\n",
        "importances = model.feature_importances_\n",
        "indices = numpy.argsort(importances)\n",
        "plt.figure(figsize=(12,8))\n",
        "plt.barh(range(len(indices)), importances[indices], color='b', align='center')\n",
        "plt.yticks(range(len(indices)), data.columns[indices])\n",
        "plt.suptitle('Importância das características')\n",
        "plt.show()"
      ],
      "execution_count": 42,
      "outputs": [
        {
          "output_type": "stream",
          "text": [
            "0.5882352941176471\n",
            "[[55 36]\n",
            " [ 6  5]]\n"
          ],
          "name": "stdout"
        },
        {
          "output_type": "display_data",
          "data": {
            "image/png": "[encoded data removed]",
            "text/plain": [
              "<Figure size 864x576 with 1 Axes>"
            ]
          },
          "metadata": {
            "tags": [],
            "needs_background": "light"
          }
        }
      ]
    },
    {
      "cell_type": "markdown",
      "metadata": {
        "id": "6B1annDiM2Q4"
      },
      "source": [
        "####Temos então que os modelos não performaram muito bem, mesmo com uma redução dos dados referentes à transações não fraudulentas. A falta de dados é o ponto mais importante para essa falta de performance. Com os dados e modelos feitos temos uma maior influência das informações de valor da transação, data da transação, limite de créditos e idade."
      ]
    }
  ]
}